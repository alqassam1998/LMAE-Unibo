{
  "cells": [
    {
      "cell_type": "markdown",
      "metadata": {
        "id": "ADhr0_KYOXfX"
      },
      "source": [
        "# The `numpy` Package\n",
        "@Author: Prof. Michele Lombardi"
      ]
    },
    {
      "cell_type": "markdown",
      "metadata": {
        "id": "en50knCFOXfZ"
      },
      "source": [
        "## Python and Machine Learning\n",
        "\n",
        "**Machine Learning applications typically involve**\n",
        "\n",
        "* Dealing with large amounts of data\n",
        "* Compuational-heavy algorithms\n",
        "* Complex pipelines of preprocessing/learning/inference\n",
        "\n",
        "> **Is it a good idea to use Python for that?**"
      ]
    },
    {
      "cell_type": "markdown",
      "metadata": {
        "id": "RRRBgLGYOXfZ"
      },
      "source": [
        "* Combining operations in complex pipelines is easy in Python\n",
        "* ...But the language itself is _rather slow_\n",
        "\n",
        "**And yet, Python is the nowadays the mainstream language for ML**"
      ]
    },
    {
      "cell_type": "markdown",
      "metadata": {
        "id": "ykOxZ3cuOXfa"
      },
      "source": [
        "## Packages to the Rescue\n",
        "\n",
        "**The trick to get high-performance in Python is _using external packages_**\n",
        "\n",
        "Dedicated packages can provide:\n",
        "\n",
        "* Data structures to handle large amount of data\n",
        "* Efficient algorithms for frequently occurring problems\n",
        "\n",
        "Both can be implemented in high-performance languages, like C, C++, or Fortran"
      ]
    },
    {
      "cell_type": "markdown",
      "metadata": {
        "id": "8wVH_Yq5OXfa"
      },
      "source": [
        "**A fundamental package in this group is called [`numpy`](https://numpy.org/) and provides:**\n",
        "\n",
        "* A data structure to handle data in _tensor format_\n",
        "* Algorithms for a number of common numerical operators\n",
        "\n",
        "In a nutshell, `numpy` makes Python behave a bit like [Matlab](https://www.mathworks.com/products/matlab.html)"
      ]
    },
    {
      "cell_type": "markdown",
      "metadata": {
        "id": "pnPrBHX0OXfa"
      },
      "source": [
        "## The  `numpy.array` Class\n",
        "\n",
        "**The main data structure provided by `numpy` is called `array`**\n",
        "\n",
        "From a math standpoit, it corresponds to a _tensor_\n",
        "\n",
        "* A tensor is an $n$-dimensional collection of elements of a uniform type\n",
        "* Intuitively, it's a generalization of a vector to $n$ dimensions\n",
        "* $1$ dimension = vector, $2$ dimensions = matrix, $> 3$ dimensions = tensor"
      ]
    },
    {
      "cell_type": "markdown",
      "metadata": {
        "id": "zYVLKyCFOXfb"
      },
      "source": [
        "From an implementation standpoint:\n",
        "\n",
        "* Data in an `array` is memorized in a single sequence\n",
        "* ...But the array also stores a \"shape\", listing the size of each dimension\n",
        "* This shape is used to determine how to access the elements"
      ]
    },
    {
      "cell_type": "markdown",
      "metadata": {
        "id": "rNPCdYYMOXfb"
      },
      "source": [
        "## The  `numpy.array` Class\n",
        "\n",
        "**Let's see as an example a $2x3$ matrix:**\n",
        "\n",
        "The actual matrix is:\n",
        "\n",
        "$$\n",
        "\\left(\\begin{array}{ccc}\n",
        "x_{0,0} & x_{0,1} & x_{0,2} \\\\\n",
        "x_{1,0} & x_{1,1} & x_{1,2}\n",
        "\\end{array}\\right)\n",
        "$$\n",
        "\n",
        "...Which is memorized as a sequence by rows, i.e.:\n",
        "\n",
        "$$\n",
        "\\left(\\begin{array}{cccccc}\n",
        "x_{0,0} & x_{0,1} & x_{0,2} &\n",
        "x_{1,0} & x_{1,1} & x_{1,2}\n",
        "\\end{array}\\right)\n",
        "$$\n",
        "\n",
        "* The _shape_ is in this acse $(2, 3)$\n",
        "* The two-dimension index $(i, j)$ corresponds to the linear index $3i + j$"
      ]
    },
    {
      "cell_type": "markdown",
      "metadata": {
        "id": "IQlF1IxjOXfb"
      },
      "source": [
        "## Using `numpy`\n",
        "\n",
        "**`numpy` is not part of a minimal Python installation**\n",
        "\n",
        "* You can find it pre-installed in scientific Python distributions (e.g. [Anaconda](https://www.anaconda.com/products/distribution))\n",
        "* ...Or you can install it using a package managed\n",
        "  - E.g. `pip install numpy`\n",
        "\n",
        "**You can import `numpy` as any other package**\n",
        "\n",
        "...Except that it has a canonical alias, i.e. `np`"
      ]
    },
    {
      "cell_type": "code",
      "execution_count": null,
      "metadata": {
        "id": "Zsr6rmzHOXfb"
      },
      "outputs": [],
      "source": [
        "import numpy as np"
      ]
    },
    {
      "cell_type": "markdown",
      "metadata": {
        "id": "L2hC34CJOXfc"
      },
      "source": [
        "* Extensive documentation can be [found online](https://numpy.org/doc/stable/)\n",
        "* ...Or accessed with `help(numpy)` or `help('numpy')`"
      ]
    },
    {
      "cell_type": "markdown",
      "metadata": {
        "id": "nL7kthZQOXfc"
      },
      "source": [
        "## Building an Array\n",
        "\n",
        "**Any iterable can be converted to an array via the `np.array` constructor:**"
      ]
    },
    {
      "cell_type": "code",
      "execution_count": null,
      "metadata": {
        "id": "N7J6xVQTOXfc",
        "outputId": "38000df7-d10e-4558-b598-69c2ecd0bd5c"
      },
      "outputs": [
        {
          "name": "stdout",
          "output_type": "stream",
          "text": [
            "Original collection: [1, 2, 3]\n",
            "Array: [1 2 3]\n"
          ]
        }
      ],
      "source": [
        "x = [1, 2, 3]\n",
        "a = np.array(x)\n",
        "print('Original collection:', x)\n",
        "print('Array:', a)"
      ]
    },
    {
      "cell_type": "markdown",
      "metadata": {
        "id": "T_9gCRzuOXfd"
      },
      "source": [
        "* The array shape can be access through the `shape` attribute:"
      ]
    },
    {
      "cell_type": "code",
      "execution_count": null,
      "metadata": {
        "id": "aNjJSrKvOXfd",
        "outputId": "b9baf5ad-ec58-487b-bb9e-e67f5aabfbd2"
      },
      "outputs": [
        {
          "data": {
            "text/plain": [
              "(3,)"
            ]
          },
          "execution_count": 52,
          "metadata": {},
          "output_type": "execute_result"
        }
      ],
      "source": [
        "a.shape"
      ]
    },
    {
      "cell_type": "markdown",
      "metadata": {
        "id": "vRlx61cBOXfd"
      },
      "source": [
        "* `shape` is always a _tuple_ (with a single element for one-dimensional arrays)"
      ]
    },
    {
      "cell_type": "markdown",
      "metadata": {
        "id": "K-BnYZLKOXfd"
      },
      "source": [
        "## Building an Array\n",
        "\n",
        "**Using _nested iterables_ leads to multi-dimensional arrays**\n",
        "\n",
        "E.g. a list of list becomes a two-dimensional array"
      ]
    },
    {
      "cell_type": "code",
      "execution_count": null,
      "metadata": {
        "id": "oqmcAcSCOXfd",
        "outputId": "f373f0fc-ed03-43d4-e580-c99d24c753db"
      },
      "outputs": [
        {
          "name": "stdout",
          "output_type": "stream",
          "text": [
            "Original collection: [[1, 2, 3], [4, 5, 6]]\n",
            "Array:\n",
            "[[1 2 3]\n",
            " [4 5 6]]\n",
            "Shape: (2, 3)\n"
          ]
        }
      ],
      "source": [
        "x = [[1, 2, 3],\n",
        "     [4, 5, 6]]\n",
        "a = np.array(x)\n",
        "print('Original collection:', x)\n",
        "print('Array:')\n",
        "print(a)\n",
        "print('Shape:', a.shape)"
      ]
    },
    {
      "cell_type": "markdown",
      "metadata": {
        "id": "N_8vCQ6XOXfd"
      },
      "source": [
        "* In this case, the `shape` tuple has two elements\n",
        "* ...Respectively the number of rows and columns"
      ]
    },
    {
      "cell_type": "markdown",
      "metadata": {
        "id": "ovVjaNDmOXfd"
      },
      "source": [
        "## Building an Array\n",
        "\n",
        "**Ad-hoc functions can be used to build notable arrays**\n",
        "\n",
        "For an all-zero array you can use `zeros`"
      ]
    },
    {
      "cell_type": "code",
      "execution_count": null,
      "metadata": {
        "id": "fs8duH_MOXfd",
        "outputId": "fe0c3f80-12c9-40c5-d7cd-6b700852bf05"
      },
      "outputs": [
        {
          "name": "stdout",
          "output_type": "stream",
          "text": [
            "[[0. 0. 0.]\n",
            " [0. 0. 0.]]\n"
          ]
        }
      ],
      "source": [
        "shape = (2, 3) # number of rows and columns\n",
        "print(np.zeros(shape))"
      ]
    },
    {
      "cell_type": "markdown",
      "metadata": {
        "id": "YsxrDjB6OXfe"
      },
      "source": [
        "For an all-one array you can use `ones`:"
      ]
    },
    {
      "cell_type": "code",
      "execution_count": null,
      "metadata": {
        "id": "OcsuIGaHOXfe",
        "outputId": "be6d8cb9-1f1c-42f9-ee47-942001ff84dd"
      },
      "outputs": [
        {
          "name": "stdout",
          "output_type": "stream",
          "text": [
            "[[1. 1. 1.]\n",
            " [1. 1. 1.]]\n"
          ]
        }
      ],
      "source": [
        "print(np.ones(shape))"
      ]
    },
    {
      "cell_type": "markdown",
      "metadata": {
        "id": "6hZ5Go59OXfe"
      },
      "source": [
        "## Building an Array\n",
        "\n",
        "**Ad-hoc functions can be used to build notable arrays**\n",
        "\n",
        "For an array filled with a single, user-chosen, values you can use `full`:"
      ]
    },
    {
      "cell_type": "code",
      "execution_count": null,
      "metadata": {
        "id": "UJeUNOyiOXfe",
        "outputId": "59be2be3-bffc-45cc-d984-62a257f3c1d3"
      },
      "outputs": [
        {
          "name": "stdout",
          "output_type": "stream",
          "text": [
            "[[nan nan nan]\n",
            " [nan nan nan]]\n"
          ]
        }
      ],
      "source": [
        "shape = (2, 3) # number of rows and columns\n",
        "val = np.NaN\n",
        "print(np.full(shape, np.NaN))"
      ]
    },
    {
      "cell_type": "markdown",
      "metadata": {
        "id": "0wbcVQtpOXfe"
      },
      "source": [
        "* `NaN` stands for Not a Number\n",
        "* It's the equivalent of a missing/ill defined value\n",
        "\n",
        "For the identity matrix, you can use `eye`:"
      ]
    },
    {
      "cell_type": "code",
      "execution_count": null,
      "metadata": {
        "id": "vKQ7VQe8OXfe",
        "outputId": "76e5f2f0-2409-4d8e-f2b3-a80fe2a93f6a"
      },
      "outputs": [
        {
          "name": "stdout",
          "output_type": "stream",
          "text": [
            "[[1. 0. 0.]\n",
            " [0. 1. 0.]\n",
            " [0. 0. 1.]]\n"
          ]
        }
      ],
      "source": [
        "n = 3\n",
        "print(np.eye(n))"
      ]
    },
    {
      "cell_type": "markdown",
      "metadata": {
        "id": "IyHfrCteOXfe"
      },
      "source": [
        "## Building an Array\n",
        "\n",
        "**There are two ways to build arrays with uniformly spaced values**\n",
        "\n",
        "If you know the spacing, you can use `arange`:"
      ]
    },
    {
      "cell_type": "code",
      "execution_count": null,
      "metadata": {
        "id": "geHwTpZTOXfe",
        "outputId": "6de5a00f-3d55-4993-be18-90448227a0e1"
      },
      "outputs": [
        {
          "name": "stdout",
          "output_type": "stream",
          "text": [
            "[1.  1.5 2.  2.5 3.  3.5 4.  4.5 5.  5.5 6.  6.5 7.  7.5 8.  8.5 9.  9.5]\n"
          ]
        }
      ],
      "source": [
        "x = np.arange(1, 10, step=0.5)\n",
        "print(x)"
      ]
    },
    {
      "cell_type": "markdown",
      "metadata": {
        "id": "t-rMO4HXOXfe"
      },
      "source": [
        "If you know how many numbers you need, you can use `linspace`"
      ]
    },
    {
      "cell_type": "code",
      "execution_count": null,
      "metadata": {
        "id": "Wg1TigHNOXfe",
        "outputId": "77b24b3c-7bfa-4c06-d1fb-640333f1b28c"
      },
      "outputs": [
        {
          "name": "stdout",
          "output_type": "stream",
          "text": [
            "[0.  1.6 3.2 4.8 6.4 8. ]\n"
          ]
        }
      ],
      "source": [
        "x = np.linspace(start=0, stop=8, num=6)\n",
        "print(x)"
      ]
    },
    {
      "cell_type": "markdown",
      "metadata": {
        "id": "HxtbNspxOXff"
      },
      "source": [
        "* The default value for `step` is 1\n",
        "* The default value for `num` is 50"
      ]
    },
    {
      "cell_type": "markdown",
      "metadata": {
        "id": "0F4sqz5mOXff"
      },
      "source": [
        "## Type of an Array\n",
        "\n",
        "**All elements in an array must be of the same type**\n",
        "\n",
        "...Which can be accessed via the `dtype` attribute"
      ]
    },
    {
      "cell_type": "code",
      "execution_count": null,
      "metadata": {
        "id": "0ftCGb6_OXff",
        "outputId": "29a145c5-d25b-4d65-9022-2f10c596fa37"
      },
      "outputs": [
        {
          "data": {
            "text/plain": [
              "dtype('float64')"
            ]
          },
          "execution_count": 20,
          "metadata": {},
          "output_type": "execute_result"
        }
      ],
      "source": [
        "x = np.zeros(3)\n",
        "x.dtype"
      ]
    },
    {
      "cell_type": "markdown",
      "metadata": {
        "id": "nehVjk35OXff"
      },
      "source": [
        "* If you try converting a collection with non-uniform types\n",
        "* ...`numpy` tries to cast them to the same, most-general, type"
      ]
    },
    {
      "cell_type": "code",
      "execution_count": null,
      "metadata": {
        "id": "MKfLRLT3OXff",
        "outputId": "35d9f906-6363-4351-a84a-e0ed5d50b5c5"
      },
      "outputs": [
        {
          "name": "stdout",
          "output_type": "stream",
          "text": [
            "[1.  2.3 1. ] float64\n"
          ]
        }
      ],
      "source": [
        "x = np.array([1, 2.3, True])\n",
        "print(x, x.dtype)"
      ]
    },
    {
      "cell_type": "markdown",
      "metadata": {
        "id": "RE-AaywgOXff"
      },
      "source": [
        "## Array Operators\n",
        "\n",
        "**Most basic operators are redefined for arrays**\n",
        "\n",
        "In particular, the apply _element wise_ to the involved arrays\n",
        "\n",
        "* Some example with arithmetic operators"
      ]
    },
    {
      "cell_type": "code",
      "execution_count": null,
      "metadata": {
        "id": "omv5cus-OXff",
        "outputId": "fc3dc071-ef46-462c-ce2a-ac19e61f1371"
      },
      "outputs": [
        {
          "name": "stdout",
          "output_type": "stream",
          "text": [
            "x + y: [5 7 9]\n",
            "x * y: [ 4 10 18]\n",
            "x - y: [-3 -3 -3]\n",
            "x / y: [0.25 0.4  0.5 ]\n",
            "y % 2: [0 1 0]\n"
          ]
        }
      ],
      "source": [
        "x = np.array([1, 2, 3])\n",
        "y = np.array([4, 5, 6])\n",
        "print('x + y:', x + y)\n",
        "print('x * y:', x * y)\n",
        "print('x - y:', x - y)\n",
        "print('x / y:', x / y)\n",
        "print('y % 2:', y % 2)"
      ]
    },
    {
      "cell_type": "markdown",
      "metadata": {
        "id": "DX19Hx1DOXff"
      },
      "source": [
        "## Array Operators\n",
        "\n",
        "**Most basic operators are redefined for arrays**\n",
        "\n",
        "In particular, the apply _element wise_ to the involved arrays\n",
        "\n",
        "* Some example with comparison operators"
      ]
    },
    {
      "cell_type": "code",
      "execution_count": null,
      "metadata": {
        "id": "LtB66Va9OXfj",
        "outputId": "13799813-6dd5-40d5-a239-a0c45d98c1d4"
      },
      "outputs": [
        {
          "name": "stdout",
          "output_type": "stream",
          "text": [
            "x <= y: [ True  True False]\n",
            "x == y: [False  True False]\n"
          ]
        }
      ],
      "source": [
        "x = np.array([1, 2, 3])\n",
        "y = np.array([3, 2, 1])\n",
        "print('x <= y:', x <= y)\n",
        "print('x == y:', x == y)"
      ]
    },
    {
      "cell_type": "markdown",
      "metadata": {
        "id": "FPhyMdN-OXfj"
      },
      "source": [
        "* The results is an array with a logical type"
      ]
    },
    {
      "cell_type": "markdown",
      "metadata": {
        "id": "jKvyzi8wOXfj"
      },
      "source": [
        "## Array Operators\n",
        "\n",
        "**Most basic operators are redefined for arrays**\n",
        "\n",
        "In particular, the apply _element wise_ to the involved arrays\n",
        "\n",
        "* The `&`, `|`, and `~` operatore no longer apply bit-wise\n",
        "* ...But element-wise (the same as all the others)"
      ]
    },
    {
      "cell_type": "code",
      "execution_count": null,
      "metadata": {
        "id": "Az5O2Sk4OXfj",
        "outputId": "f9a2a970-4e6d-4a41-b2a1-1e50d1f3363b"
      },
      "outputs": [
        {
          "name": "stdout",
          "output_type": "stream",
          "text": [
            "~(x <= y): [False False  True]\n",
            "(x <= y) | (x >= y): [ True  True  True]\n",
            "(x <= y) & (x >= y): [False  True False]\n"
          ]
        }
      ],
      "source": [
        "print('~(x <= y):', ~(x <= y))\n",
        "print('(x <= y) | (x >= y):', (x <= y) | (x >= y))\n",
        "print('(x <= y) & (x >= y):', (x <= y) & (x >= y))"
      ]
    },
    {
      "cell_type": "markdown",
      "metadata": {
        "id": "Lu9Y9m6oOXfj"
      },
      "source": [
        "* Priorities are a bit tricky with these operators\n",
        "* E.g. `&` and `|` has higher priority than comparison operators\n",
        "* When in doubt, add brackets ;-)"
      ]
    },
    {
      "cell_type": "markdown",
      "metadata": {
        "id": "IM7vrF5NOXfk"
      },
      "source": [
        "## Accessing Arrays\n",
        "\n",
        "**Arrays can be accesses via the indexing operator, i.e. `[]`**\n",
        "\n",
        "In particular, we use _tuple indices_ to access single elements"
      ]
    },
    {
      "cell_type": "code",
      "execution_count": null,
      "metadata": {
        "id": "kd4hRx0ZOXfk",
        "outputId": "84bfe998-2587-49bc-b28d-d9ac08dcab7c"
      },
      "outputs": [
        {
          "name": "stdout",
          "output_type": "stream",
          "text": [
            "3\n"
          ]
        }
      ],
      "source": [
        "x = np.array([[1, 2, 3], [4, 5, 6]])\n",
        "print(x[0, 2]) # row 0, column 2"
      ]
    },
    {
      "cell_type": "markdown",
      "metadata": {
        "id": "vdpDnn-xOXfk"
      },
      "source": [
        "Slice indexing is also possible:"
      ]
    },
    {
      "cell_type": "code",
      "execution_count": null,
      "metadata": {
        "id": "mc4bYRocOXfk",
        "outputId": "7b92033a-5a1e-4140-a285-cef48524f946"
      },
      "outputs": [
        {
          "name": "stdout",
          "output_type": "stream",
          "text": [
            "[1 2 3]\n",
            "[2 5]\n",
            "[[1 2]\n",
            " [4 5]]\n"
          ]
        }
      ],
      "source": [
        "print(x[0, :]) # The whole row 0\n",
        "print(x[:, 1]) # The whole column 1\n",
        "print(x[:2, :2]) # First two rows and columns"
      ]
    },
    {
      "cell_type": "markdown",
      "metadata": {
        "id": "fvunaZAfOXfk"
      },
      "source": [
        "* Basically, you can specify one slide per dimension"
      ]
    },
    {
      "cell_type": "markdown",
      "metadata": {
        "id": "7K0sepbNOXfk"
      },
      "source": [
        "## Accessing Arrays\n",
        "\n",
        "**It's possible to access arrays via a collection of indices**\n",
        "\n",
        "This is most often employed with single-dimenension arrays:"
      ]
    },
    {
      "cell_type": "code",
      "execution_count": null,
      "metadata": {
        "id": "b5TPPEFVOXfk",
        "outputId": "a846ac4f-a8fb-45af-edf4-1df61a68b96f"
      },
      "outputs": [
        {
          "name": "stdout",
          "output_type": "stream",
          "text": [
            "[ 2  6 10]\n"
          ]
        }
      ],
      "source": [
        "x = np.array([2, 4, 6, 8, 10, 12])\n",
        "idx = [0, 2, 4]\n",
        "print(x[idx]) # accesso agli indici 0, 2 e 4"
      ]
    },
    {
      "cell_type": "markdown",
      "metadata": {
        "id": "-kI0Nh3DOXfk"
      },
      "source": [
        "* First, we build an iterable with the desired indexes\n",
        "* ...Then we pass it as the argument for the indexing operator\n",
        "* I.e. between the square brackets `[]`\n",
        "\n",
        "The results is an array containing the elements at the specified indices"
      ]
    },
    {
      "cell_type": "markdown",
      "metadata": {
        "id": "td4djX9iOXfk"
      },
      "source": [
        "## Accessing Arrays\n",
        "\n",
        "**Arrays can be access via a \"logic mask\"**\n",
        "\n",
        "* The mask is second array, having the same shape\n",
        "* ...But filled with boolean values"
      ]
    },
    {
      "cell_type": "code",
      "execution_count": null,
      "metadata": {
        "id": "ckrz4WQYOXfk",
        "outputId": "99c26a94-1d43-4494-9422-8af969b99b9a"
      },
      "outputs": [
        {
          "name": "stdout",
          "output_type": "stream",
          "text": [
            "[[1 2 3]\n",
            " [4 5 6]]\n",
            "[[ True  True False]\n",
            " [False False  True]]\n"
          ]
        }
      ],
      "source": [
        "x = np.array([[1, 2, 3], [4, 5, 6]])\n",
        "print(x)\n",
        "mask = np.array([[True, True, False], [False, False, True]])\n",
        "print(mask)"
      ]
    },
    {
      "cell_type": "markdown",
      "metadata": {
        "id": "X2ToX85_OXfl"
      },
      "source": [
        "* Using such a mask an index always returns a one-dimensional arrays\n",
        "* ...Containig the elements whose value is `True` in the mask"
      ]
    },
    {
      "cell_type": "code",
      "execution_count": null,
      "metadata": {
        "id": "VbXF_zu5OXfl",
        "outputId": "1c75a6d8-8fa6-4bdd-ab76-cbe4865f5947"
      },
      "outputs": [
        {
          "name": "stdout",
          "output_type": "stream",
          "text": [
            "[1 2 6]\n"
          ]
        }
      ],
      "source": [
        "print(x[mask])"
      ]
    },
    {
      "cell_type": "markdown",
      "metadata": {
        "id": "KQWhV7VMOXfl"
      },
      "source": [
        "## Accessing Arrays\n",
        "\n",
        "**Arrays can be access via a \"logic mask\"**\n",
        "\n",
        "It's often used to retrieve elements that satisfy a given condition:"
      ]
    },
    {
      "cell_type": "code",
      "execution_count": null,
      "metadata": {
        "id": "zA9-O7AqOXfl",
        "outputId": "663a4d58-3e92-4ebc-fe89-75d7807d8c87"
      },
      "outputs": [
        {
          "data": {
            "text/plain": [
              "array([2, 4, 6])"
            ]
          },
          "execution_count": 31,
          "metadata": {},
          "output_type": "execute_result"
        }
      ],
      "source": [
        "x = np.array([[1, 2, 3], [4, 5, 6]])\n",
        "x[x % 2 == 0]"
      ]
    },
    {
      "cell_type": "markdown",
      "metadata": {
        "id": "u-ERktSfOXfl"
      },
      "source": [
        "In this example:\n",
        "\n",
        "* The expression `x % 2 == 0` returns a Boolean-type array\n",
        "* ...Which is then used as mask to access the `x` array\n",
        "\n",
        "The results contained all elements in `x` having an even value"
      ]
    },
    {
      "cell_type": "markdown",
      "metadata": {
        "id": "dJ0SfrVNOXfl"
      },
      "source": [
        "## Assigning Arrays\n",
        "\n",
        "**It's possible to assign individual elements within an array**\n",
        "\n",
        "...Just like it is done for lists:"
      ]
    },
    {
      "cell_type": "code",
      "execution_count": null,
      "metadata": {
        "id": "Zha-DhwhOXfl",
        "outputId": "79943b2f-fb07-4dca-d3fa-30ed068c5a0c"
      },
      "outputs": [
        {
          "name": "stdout",
          "output_type": "stream",
          "text": [
            "[[1 2 3]\n",
            " [4 5 6]]\n",
            "[[ 1  2  3]\n",
            " [ 4 -1  6]]\n"
          ]
        }
      ],
      "source": [
        "x = np.array([[1, 2, 3], [4, 5, 6]])\n",
        "print(x)\n",
        "x[1, 1] = -1\n",
        "print(x)"
      ]
    },
    {
      "cell_type": "markdown",
      "metadata": {
        "id": "P3Cxyb4tOXfl"
      },
      "source": [
        "## Assigning Arrays\n",
        "\n",
        "**It's possible to assign entire sub-parts of an array**\n",
        "\n",
        "E.g. we can assign a whole column:"
      ]
    },
    {
      "cell_type": "code",
      "execution_count": null,
      "metadata": {
        "id": "Gk8rAGDbOXfl",
        "outputId": "ec13f56b-512f-49eb-8c5d-a4aa013644a1"
      },
      "outputs": [
        {
          "name": "stdout",
          "output_type": "stream",
          "text": [
            "[[1 2 3]\n",
            " [4 5 6]]\n",
            "[[ 1 -1  3]\n",
            " [ 4 -1  6]]\n"
          ]
        }
      ],
      "source": [
        "x = np.array([[1, 2, 3], [4, 5, 6]])\n",
        "print(x)\n",
        "x[:, 1] = [-1, -1]\n",
        "print(x)"
      ]
    },
    {
      "cell_type": "markdown",
      "metadata": {
        "id": "khXXRUZAOXfl"
      },
      "source": [
        "...Or a row:"
      ]
    },
    {
      "cell_type": "code",
      "execution_count": null,
      "metadata": {
        "id": "xvFC4sEnOXfl",
        "outputId": "0896936a-592c-4cd4-a1c8-ad9d11494b33"
      },
      "outputs": [
        {
          "name": "stdout",
          "output_type": "stream",
          "text": [
            "[[-1 -1 -1]\n",
            " [ 4 -1  6]]\n"
          ]
        }
      ],
      "source": [
        "x[0, :] = [-1, -1, -1]\n",
        "print(x)"
      ]
    },
    {
      "cell_type": "markdown",
      "metadata": {
        "id": "EyvsbFN5OXfm"
      },
      "source": [
        "## Assigning Arrays\n",
        "\n",
        "**It's possible to assign entire sub-parts of an array**\n",
        "\n",
        "* If the shape of the selected sub-part\n",
        "* ...Is different from the shape of the assigned object\n",
        "* `numpy` trys to bridge the gap by repeating the assigned object\n",
        "\n",
        "The typical case is that of assigning a scalar to an tensor:"
      ]
    },
    {
      "cell_type": "code",
      "execution_count": null,
      "metadata": {
        "id": "J3zeub9mOXfm",
        "outputId": "64c524ea-b7be-4821-ac3e-e4bc6003e2a3"
      },
      "outputs": [
        {
          "name": "stdout",
          "output_type": "stream",
          "text": [
            "[[1 2 3]\n",
            " [4 5 6]]\n",
            "[[-1 -1  3]\n",
            " [-1 -1  6]]\n"
          ]
        }
      ],
      "source": [
        "x = np.array([[1, 2, 3], [4, 5, 6]])\n",
        "print(x)\n",
        "x[:2, :2] = -1\n",
        "print(x)"
      ]
    },
    {
      "cell_type": "markdown",
      "metadata": {
        "id": "E3nSUSLhOXfm"
      },
      "source": [
        "* In this case, all the selected elements\n",
        "* ...Are replaced with the specified scalar"
      ]
    },
    {
      "cell_type": "markdown",
      "metadata": {
        "id": "UZBBvIqqOXfm"
      },
      "source": [
        "## Functions and Methods in `numpy`\n",
        "\n",
        "**`numpy` provides a number of functions to work with arrays**\n",
        "\n",
        "Here are a few _arithmetic_ functions:"
      ]
    },
    {
      "cell_type": "code",
      "execution_count": null,
      "metadata": {
        "id": "3Oi7GjR2OXfm",
        "outputId": "177aa458-1c2d-4563-980c-fc62ab3ffa80"
      },
      "outputs": [
        {
          "name": "stdout",
          "output_type": "stream",
          "text": [
            "[ 1  4  9 16]\n",
            "[1.         1.41421356 1.73205081 2.        ]\n",
            "[ 2.71828183  7.3890561  20.08553692 54.59815003]\n",
            "[0.         0.69314718 1.09861229 1.38629436]\n",
            "[ 0.84147098  0.90929743  0.14112001 -0.7568025 ]\n",
            "[ 0.54030231 -0.41614684 -0.9899925  -0.65364362]\n"
          ]
        }
      ],
      "source": [
        "x = np.array([1, 2, 3, 4])\n",
        "print(np.square(x)) # power of two\n",
        "print(np.sqrt(x)) # square root\n",
        "print(np.exp(x)) # exponential\n",
        "print(np.log(x)) # logarithm\n",
        "print(np.sin(x)) # sine function\n",
        "print(np.cos(x)) # cosine function"
      ]
    },
    {
      "cell_type": "markdown",
      "metadata": {
        "id": "4xZqEsVeOXfm"
      },
      "source": [
        "## Functions and Methods in `numpy`\n",
        "\n",
        "**`numpy` provides a number of functions to work with arrays**\n",
        "\n",
        "...And here we have some _aggregation_ functions:"
      ]
    },
    {
      "cell_type": "code",
      "execution_count": null,
      "metadata": {
        "id": "VACdDGB4OXfm",
        "outputId": "36ec2bd9-6e79-405e-ba46-28184214fdee"
      },
      "outputs": [
        {
          "name": "stdout",
          "output_type": "stream",
          "text": [
            "24\n",
            "10\n",
            "2.5\n",
            "1.118033988749895\n"
          ]
        }
      ],
      "source": [
        "x = np.array([1, 2, 3, 4])\n",
        "print(np.prod(x))\n",
        "print(np.sum(x))\n",
        "print(np.mean(x))\n",
        "print(np.std(x))"
      ]
    },
    {
      "cell_type": "markdown",
      "metadata": {
        "id": "Yv2V_7YwOXfm"
      },
      "source": [
        "## Functions and Methods in `numpy`\n",
        "\n",
        "**`numpy` provides a number of functions to work with arrays**\n",
        "\n",
        "Here are some functions to work with _pseudo-random numbers_:"
      ]
    },
    {
      "cell_type": "code",
      "execution_count": null,
      "metadata": {
        "id": "SToegGllOXfm",
        "outputId": "d2eed803-52ee-4e03-a23e-1063598a3cd1"
      },
      "outputs": [
        {
          "name": "stdout",
          "output_type": "stream",
          "text": [
            "[0.37454012 0.95071431 0.73199394 0.59865848]\n",
            "[2 1 2 2]\n",
            "[6 6 8 2]\n"
          ]
        }
      ],
      "source": [
        "np.random.seed(42) # choice of \"seed\"\n",
        "shape = (4,)\n",
        "print(np.random.random(shape)) # generation of random numbers in [0,1)\n",
        "print(np.random.randint(low=0, high=4, size=shape)) # generation of integer numbers\n",
        "vals = [2, 4, 6, 8]\n",
        "print(np.random.choice(vals, size=shape)) # random elements from a collection"
      ]
    },
    {
      "cell_type": "markdown",
      "metadata": {
        "id": "1l2yoefOOXfm"
      },
      "source": [
        "* Le funzioni in questa categoria sono nel modulo `np.random`\n",
        "* Vi sono altri moduli utili (al solito: vedere la documentazione!)"
      ]
    },
    {
      "cell_type": "markdown",
      "metadata": {
        "id": "G-YCzhoaOXfm"
      },
      "source": [
        "## Functions and Methods in `numpy`\n",
        "\n",
        "**Some functions are also available as methods**"
      ]
    },
    {
      "cell_type": "code",
      "execution_count": null,
      "metadata": {
        "id": "4B6qz8RLOXfn",
        "outputId": "ab69605c-873f-469b-f645-f1331f9c67b9"
      },
      "outputs": [
        {
          "name": "stdout",
          "output_type": "stream",
          "text": [
            "24\n",
            "10\n",
            "2.5\n",
            "1.118033988749895\n"
          ]
        }
      ],
      "source": [
        "x = np.array([1, 2, 3, 4])\n",
        "print(x.prod())\n",
        "print(x.sum())\n",
        "print(x.mean())\n",
        "print(x.std())"
      ]
    },
    {
      "cell_type": "markdown",
      "metadata": {
        "id": "reXQqyf5OXfn"
      },
      "source": [
        "* The behavior is the same as with functions\n",
        "* ...But the notation is more compact"
      ]
    },
    {
      "cell_type": "markdown",
      "metadata": {
        "id": "9nzGcuBbOXfn"
      },
      "source": [
        "## Benefits of `numpy`\n",
        "\n",
        "**We can use `numpy` to write more readable and efficient code**\n",
        "\n",
        "E.g. let's assume we need to sum two sequences of numbers\n",
        "\n",
        "* First, we see a native Python solution:"
      ]
    },
    {
      "cell_type": "code",
      "execution_count": null,
      "metadata": {
        "id": "JDCC3ajIOXfn",
        "outputId": "a66577ca-d20c-4e79-ce37-dfb3582b752b"
      },
      "outputs": [
        {
          "name": "stdout",
          "output_type": "stream",
          "text": [
            "CPU times: user 1.67 s, sys: 439 ms, total: 2.11 s\n",
            "Wall time: 2.12 s\n"
          ]
        }
      ],
      "source": [
        "%%time\n",
        "n = 20000000\n",
        "a = [i for i in range(n)]\n",
        "b = [i for i in range(n)]\n",
        "c = [v1 + v2 for v1, v2 in zip(a, b)]"
      ]
    },
    {
      "cell_type": "markdown",
      "metadata": {
        "id": "MMiZTDcmOXfn"
      },
      "source": [
        "* The `%%time` directive measures and prints the run-time of a cell"
      ]
    },
    {
      "cell_type": "markdown",
      "metadata": {
        "id": "o_vuLBEIOXfn"
      },
      "source": [
        "## Benefits of `numpy`\n",
        "\n",
        "**We can use `numpy` to write more readable and efficient code**\n",
        "\n",
        "E.g. let's assume we need to sum two sequences of numbers\n",
        "\n",
        "* Then, we solve it using `numpy`"
      ]
    },
    {
      "cell_type": "code",
      "execution_count": null,
      "metadata": {
        "id": "4xPp3mCYOXfn",
        "outputId": "5e0e02e8-7fea-4fb9-91b8-41522ae216c1"
      },
      "outputs": [
        {
          "name": "stdout",
          "output_type": "stream",
          "text": [
            "CPU times: user 309 ms, sys: 154 ms, total: 462 ms\n",
            "Wall time: 462 ms\n"
          ]
        }
      ],
      "source": [
        "%%time\n",
        "n = 20000000\n",
        "a = np.arange(n)\n",
        "b = np.arange(n)\n",
        "c = a + b"
      ]
    },
    {
      "cell_type": "markdown",
      "metadata": {
        "id": "bhPZHWQrOXfn"
      },
      "source": [
        "* The `numpy` version us more readable\n",
        "* ...And also much faster!"
      ]
    }
  ],
  "metadata": {
    "celltoolbar": "Slideshow",
    "kernelspec": {
      "display_name": "Python 3 (ipykernel)",
      "language": "python",
      "name": "python3"
    },
    "language_info": {
      "codemirror_mode": {
        "name": "ipython",
        "version": 3
      },
      "file_extension": ".py",
      "mimetype": "text/x-python",
      "name": "python",
      "nbconvert_exporter": "python",
      "pygments_lexer": "ipython3",
      "version": "3.10.8"
    },
    "rise": {
      "center": false,
      "enable_chalkboard": true,
      "transition": "fade"
    },
    "colab": {
      "provenance": []
    }
  },
  "nbformat": 4,
  "nbformat_minor": 0
}