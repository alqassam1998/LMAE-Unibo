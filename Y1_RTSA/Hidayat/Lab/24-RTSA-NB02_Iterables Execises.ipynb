{
  "nbformat": 4,
  "nbformat_minor": 0,
  "metadata": {
    "colab": {
      "provenance": []
    },
    "kernelspec": {
      "name": "python3",
      "display_name": "Python 3"
    },
    "language_info": {
      "name": "python"
    }
  },
  "cells": [
    {
      "cell_type": "markdown",
      "source": [
        "# Exercise 1\n",
        "Write a program that asks the user the base and the height of a triangle, and prints out the area."
      ],
      "metadata": {
        "id": "eiJTL5kFnKjL"
      }
    },
    {
      "cell_type": "markdown",
      "source": [
        "### Solution"
      ],
      "metadata": {
        "id": "rMoSpRYDHT1O"
      }
    },
    {
      "cell_type": "code",
      "execution_count": null,
      "metadata": {
        "colab": {
          "base_uri": "https://localhost:8080/"
        },
        "id": "luqnDroEm-w2",
        "outputId": "3962622c-4249-4098-eb76-663087071095"
      },
      "outputs": [
        {
          "output_type": "stream",
          "name": "stdout",
          "text": [
            "Insert the base: 10\n",
            "Insert the height: 10\n",
            "The area is  50.0 .\n"
          ]
        }
      ],
      "source": [
        "base = float(input('Insert the base: '))\n",
        "height = float(input('Insert the height: '))\n",
        "area = (base * height) / 2\n",
        "print('The area is ', area, '.')"
      ]
    },
    {
      "cell_type": "markdown",
      "source": [
        "# Exercise 2\n",
        "\n",
        "## Variant 1\n",
        "Write a program that asks the user the cost of a good and applies a 22% VAT (IVA), printing the corresponding VAT value and the total cost of the good.\n",
        "\n",
        "You can use the `round(N, M)` function to rounds the number N to the M digits after the comma, to print out a human-readable amount\n",
        "\n"
      ],
      "metadata": {
        "id": "xIxuTuV1naiR"
      }
    },
    {
      "cell_type": "markdown",
      "source": [
        "### Solution"
      ],
      "metadata": {
        "id": "4QX7XCfjHSp_"
      }
    },
    {
      "cell_type": "code",
      "source": [
        "# compute the VAT\n",
        "cost = input('Insert the cost: ')\n",
        "cost = float(cost)\n",
        "vat = cost * 0.22\n",
        "vat_rounded = round(vat, 2)\n",
        "print('The VAT is ', vat_rounded)\n",
        "print('Total cost is ', round(cost+vat,2)) # round and print done in a single passage"
      ],
      "metadata": {
        "colab": {
          "base_uri": "https://localhost:8080/"
        },
        "id": "g6A4u_i3nk_x",
        "outputId": "42b35259-0a08-4deb-d5aa-743724dfc136"
      },
      "execution_count": null,
      "outputs": [
        {
          "output_type": "stream",
          "name": "stdout",
          "text": [
            "Insert the cost: 10.13\n",
            "The VAT is  2.23\n",
            "Total cost is  12.36\n"
          ]
        }
      ]
    },
    {
      "cell_type": "markdown",
      "source": [
        "## Variant 2\n",
        "\n",
        "Variation: ask the user also the VAT percentage as a value between 0 and 1\n"
      ],
      "metadata": {
        "id": "kDLXzkH4nlZ4"
      }
    },
    {
      "cell_type": "markdown",
      "source": [
        "### Solution"
      ],
      "metadata": {
        "id": "bcAl9TzeHRW5"
      }
    },
    {
      "cell_type": "code",
      "source": [
        "# compute the VAT\n",
        "cost = input('Insert the cost: ')\n",
        "cost = float(cost)\n",
        "vat_per = float(input('Insert the VAT: '))\n",
        "if vat_per <= 0 or vat_per >= 1: # check if the VAT percentage is within the admissible range\n",
        "    print(\"VAT must be a value between 0 and 1\")\n",
        "else:\n",
        "    vat = cost * vat_per\n",
        "    print('The VAT is ', round(vat,2))\n",
        "    print('Total cost is ', round(cost+vat,2))"
      ],
      "metadata": {
        "colab": {
          "base_uri": "https://localhost:8080/"
        },
        "id": "QQvTl_Qan8wY",
        "outputId": "225ce71a-f668-4e0c-9528-fc1705454e7b"
      },
      "execution_count": null,
      "outputs": [
        {
          "output_type": "stream",
          "name": "stdout",
          "text": [
            "Insert the cost: 10\n",
            "Insert the VAT: 0.421344\n",
            "The VAT is  4.21\n",
            "Total cost is  14.21\n"
          ]
        }
      ]
    },
    {
      "cell_type": "markdown",
      "source": [
        "# Exercise 3\n",
        "Ask the user to insert 5 values and print the sum of such values."
      ],
      "metadata": {
        "id": "6eATNFEcps6u"
      }
    },
    {
      "cell_type": "markdown",
      "source": [
        "### Solution"
      ],
      "metadata": {
        "id": "v1EHyjFhHPE4"
      }
    },
    {
      "cell_type": "code",
      "source": [
        "sum = 0\n",
        "for i in range(5):\n",
        "    value = int(input('Insert value: '))\n",
        "    sum = sum + value\n",
        "print(sum)\n"
      ],
      "metadata": {
        "colab": {
          "base_uri": "https://localhost:8080/"
        },
        "id": "AOlFqCIKpwCu",
        "outputId": "f5a18674-ef51-44c1-9d31-b03e56fc3aca"
      },
      "execution_count": null,
      "outputs": [
        {
          "output_type": "stream",
          "name": "stdout",
          "text": [
            "Insert value: 1\n",
            "Insert value: 2\n",
            "Insert value: 3\n",
            "Insert value: 4\n",
            "Insert value: 5\n",
            "15\n"
          ]
        }
      ]
    },
    {
      "cell_type": "markdown",
      "source": [
        "# Exercise 4\n",
        "Write a program that ask the user to input something, and prints it out (echo). The program should repeat the request until the user will signal its desire to close the program, by typing the message 'end'."
      ],
      "metadata": {
        "id": "n8CEg2gSsv7U"
      }
    },
    {
      "cell_type": "markdown",
      "source": [
        "### Solution"
      ],
      "metadata": {
        "id": "rS4Swoc7HNct"
      }
    },
    {
      "cell_type": "code",
      "source": [
        "msg = input('Insert a message: ')\n",
        "while msg!='end':\n",
        "    print(msg)\n",
        "    msg = input('Insert another message: ')\n",
        "else:\n",
        "    print('Thank you!')"
      ],
      "metadata": {
        "colab": {
          "base_uri": "https://localhost:8080/"
        },
        "id": "LKd7LjjKsvdl",
        "outputId": "d54d3390-519f-4dbb-ca2e-fc9f69f2e2d5"
      },
      "execution_count": null,
      "outputs": [
        {
          "output_type": "stream",
          "name": "stdout",
          "text": [
            "Insert a message: Hi!\n",
            "Hi!\n",
            "Insert another message: Hello!\n",
            "Hello!\n",
            "Insert another message: end\n",
            "Thank you!\n"
          ]
        }
      ]
    },
    {
      "cell_type": "markdown",
      "source": [
        "# Exercise 5\n",
        "Write a program that ask the user to input a sequence of integers, terminated by the value 0.\n",
        "The program, at the end, will print the product of positive integers, and the sum of negative ones."
      ],
      "metadata": {
        "id": "QVT3-YAbtOC7"
      }
    },
    {
      "cell_type": "markdown",
      "source": [
        "### Solution"
      ],
      "metadata": {
        "id": "a-dpoOFPHMFC"
      }
    },
    {
      "cell_type": "code",
      "source": [
        "prod = 1\n",
        "sum = 0\n",
        "val = int(input('Insert a number: '))\n",
        "while val != 0 :\n",
        "    if val > 0:\n",
        "        prod = prod * val\n",
        "    elif val < 0:\n",
        "        sum = sum + val\n",
        "    val = int(input('Insert a number: '))\n",
        "print('The porduct is ', prod)\n",
        "print('The sum is ', sum)"
      ],
      "metadata": {
        "id": "1ERIR-votQG3"
      },
      "execution_count": null,
      "outputs": []
    },
    {
      "cell_type": "markdown",
      "source": [
        "# Exercise 6\n",
        "Write a program that ask the user a value a, and computes the following formula:\n",
        "\n",
        "$ \\sum_{i=1}^{a} \\sum_{j=1}^{i} j  $"
      ],
      "metadata": {
        "id": "XHddCu8Etmmr"
      }
    },
    {
      "cell_type": "markdown",
      "source": [
        "### Solution"
      ],
      "metadata": {
        "id": "9XIqzr-XHK2S"
      }
    },
    {
      "cell_type": "code",
      "source": [
        "a = int(input('Insert a: '))\n",
        "\n",
        "sum = 0\n",
        "for i in range(1, a+1):\n",
        "    for j in range(1,i+1):\n",
        "        sum = sum + j\n",
        "\n",
        "print('Result: ', sum)\n"
      ],
      "metadata": {
        "colab": {
          "base_uri": "https://localhost:8080/"
        },
        "id": "0NJj4VMhtmSy",
        "outputId": "5ed52280-aeef-4bc9-bec0-250382013e81"
      },
      "execution_count": null,
      "outputs": [
        {
          "output_type": "stream",
          "name": "stdout",
          "text": [
            "Insert a: 5\n",
            "Result:  35\n"
          ]
        }
      ]
    },
    {
      "cell_type": "markdown",
      "source": [
        "# Exercise 7\n",
        "Write a program that ask the user to input a string, and prints each character in a single line."
      ],
      "metadata": {
        "id": "3Fy0nKwVGcxm"
      }
    },
    {
      "cell_type": "markdown",
      "source": [
        "### Solution"
      ],
      "metadata": {
        "id": "CAYSwR84HH5o"
      }
    },
    {
      "cell_type": "code",
      "source": [
        "msg = input('Enter a message: ‘)\n",
        "\n",
        "for c in msg:\n",
        "    print(c)\n",
        "print('Done!')\n"
      ],
      "metadata": {
        "id": "3qUYGmHxGnQp"
      },
      "execution_count": null,
      "outputs": []
    },
    {
      "cell_type": "markdown",
      "source": [
        "# Exercise 8\n",
        "Write a program that ask the user to input two strings (a long one and a shorter one) and determine if the shorter string is included in the longest.\n"
      ],
      "metadata": {
        "id": "JtmGbGd6GwT_"
      }
    },
    {
      "cell_type": "markdown",
      "source": [
        "### Solution"
      ],
      "metadata": {
        "id": "9luQf_fNG_Mw"
      }
    },
    {
      "cell_type": "code",
      "source": [
        "msgLong = input('Enter a long message: ')\n",
        "msgShort = input('Eneter a short message: ')\n",
        "\n",
        "if msgShort in msgLong:\n",
        "    print('The string is included')\n",
        "else:\n",
        "    print('The string is NOT included')\n"
      ],
      "metadata": {
        "id": "oTaVFX3gG3Ci"
      },
      "execution_count": null,
      "outputs": []
    },
    {
      "cell_type": "markdown",
      "source": [
        "# Exercise 9\n",
        "\n",
        "Write a program that ask the user to input a string, then hide it in the following way: keep the spaces, replace every character with the symbol “+” if it is a vowel, “-” if it is a consonant, “*” otherwise.\n",
        "\n",
        "Suggestion: use the `in` predicated and  `.isalpha()` method\n",
        "\n",
        "\n"
      ],
      "metadata": {
        "id": "9bzWT880IMp-"
      }
    },
    {
      "cell_type": "markdown",
      "source": [
        "### Solution"
      ],
      "metadata": {
        "id": "uDuk3r0jIUA9"
      }
    },
    {
      "cell_type": "code",
      "source": [
        "msg = input('Enter a message: ')\n",
        "\n",
        "new_msg = \"\"\n",
        "for char in msg:\n",
        "    if char == \" \":\n",
        "        new_msg += \" \"\n",
        "    elif char in \"aeiou\":\n",
        "        new_msg += \"+\"\n",
        "    elif char.isalpha():\n",
        "        new_msg += \"-\"\n",
        "    else:\n",
        "        new_msg += \"*\"\n",
        "\n",
        "print(new_msg)"
      ],
      "metadata": {
        "colab": {
          "base_uri": "https://localhost:8080/"
        },
        "id": "T7V3k292IPv1",
        "outputId": "224c385b-a79b-46f4-e72c-2d7dabd44bf9"
      },
      "execution_count": 2,
      "outputs": [
        {
          "output_type": "stream",
          "name": "stdout",
          "text": [
            "Enter a message: Hello, how are you doing?\n",
            "-+--+* -+- +-+ -++ -++--*\n"
          ]
        }
      ]
    },
    {
      "cell_type": "markdown",
      "source": [
        "# Exercise 10\n",
        "The user is a student. Ask them to insert all the marks obtained in the various exams and, at the end, compute the average and print a summary of the marks and the average. The list ends when the user inputs the empty string.\n",
        "\n",
        "(allowed grades: from 18 to 30)\n",
        "\n",
        "Suggestion: use the .isdigit() method\n"
      ],
      "metadata": {
        "id": "2mUtBi0jLl1K"
      }
    },
    {
      "cell_type": "markdown",
      "source": [
        "### Solution"
      ],
      "metadata": {
        "id": "DjHeG9_qLnfX"
      }
    },
    {
      "cell_type": "code",
      "source": [
        "print('Insert your marks: ', end='')\n",
        "marks = []\n",
        "\n",
        "aMark = input()\n",
        "while (aMark.isdigit()):\n",
        "    aMark = int(aMark)\n",
        "    if (aMark <18 or aMark > 30):\n",
        "        print(\"Grades must be within the 18-30 interval\")\n",
        "    else:\n",
        "        marks.append(aMark)\n",
        "    aMark = input('Next mark: ')\n",
        "\n",
        "if (len(marks)>0):\n",
        "    sum = 0\n",
        "    for m in marks:\n",
        "        sum += m\n",
        "    print('Marks: ', marks)\n",
        "    print('Average: ', sum/len(marks))\n",
        "else:\n",
        "    print('No marks have been inserted!')"
      ],
      "metadata": {
        "colab": {
          "base_uri": "https://localhost:8080/"
        },
        "id": "Ii-y2XScLo9g",
        "outputId": "dfa65862-e060-4753-8043-caba01b0d84b"
      },
      "execution_count": 4,
      "outputs": [
        {
          "output_type": "stream",
          "name": "stdout",
          "text": [
            "Insert your marks: 30\n",
            "Next mark: 10\n",
            "Grades must be within the 18-30 interval\n",
            "Next mark: 20\n",
            "Next mark: 25\n",
            "Next mark: \n",
            "Marks:  [30, 10, 20, 25]\n",
            "Average:  21.25\n"
          ]
        }
      ]
    },
    {
      "cell_type": "markdown",
      "source": [
        "# Exercise 11\n",
        "Write a program that reads two lists, and creates (and prints out) the intersection of the two lists. The user will terminate the insertion of a list by typing the string 'end'.\n"
      ],
      "metadata": {
        "id": "RPdm4LiSP0b2"
      }
    },
    {
      "cell_type": "markdown",
      "source": [
        "### Solution"
      ],
      "metadata": {
        "id": "r_BH380aP3I-"
      }
    },
    {
      "cell_type": "code",
      "source": [
        "l1 = []\n",
        "l2 = []\n",
        "l3 = []\n",
        "\n",
        "print('First list')\n",
        "el=input('Input an element: ')\n",
        "while (el != 'end'):\n",
        "    l1.append(el)\n",
        "    el=input('Input another element: ')\n",
        "\n",
        "print('Second list')\n",
        "el=input('Input an element: ')\n",
        "while (el != 'end'):\n",
        "    l2.append(el)\n",
        "    el=input('Input another element: ')\n",
        "\n",
        "for c in l1:\n",
        "    if c in l2:\n",
        "        l3.append(c)\n",
        "print(l1)\n",
        "print(l2)\n",
        "print('Intersection: ', l3)"
      ],
      "metadata": {
        "id": "jn1x7Up6P5BD"
      },
      "execution_count": null,
      "outputs": []
    },
    {
      "cell_type": "markdown",
      "source": [
        "# Exercise 12\n",
        "Ask the user to insert a sequence of values; the sequence is terminated by the string 'end’. Then ask the user to specify two indexes. Sort the list and return the subsequence delimited by the indexes (include both the corresponding indexes).\n",
        "\n",
        "\n",
        "\n"
      ],
      "metadata": {
        "id": "-RuYCLWdRjcp"
      }
    },
    {
      "cell_type": "markdown",
      "source": [
        "### Solution"
      ],
      "metadata": {
        "id": "CT_Oz8YBRjQX"
      }
    },
    {
      "cell_type": "code",
      "source": [
        "# input of the data\n",
        "data = []\n",
        "print('Insert an element: ')\n",
        "val = input()\n",
        "while (val.isdigit()):\n",
        "    val = float(val)\n",
        "    data.append(val)\n",
        "    val = input('Another value: ')\n",
        "\n",
        "# sorting\n",
        "data.sort()\n",
        "\n",
        "# thresholds\n",
        "minIdx = int(input('Insert the minimum index: '))\n",
        "maxIdx = int(input('Insert the maximum index: '))\n",
        "\n",
        "if (maxIdx > len(data)-1):\n",
        "    maxIdx = len(data)-1\n",
        "if (minIdx<0):\n",
        "    minIdx = 0\n",
        "\n",
        "# selection of the values within the indexes\n",
        "dataRestricted = data[minIdx:maxIdx+1]\n",
        "print('All data: ', data)\n",
        "print('Data restrcted: ', dataRestricted)"
      ],
      "metadata": {
        "colab": {
          "base_uri": "https://localhost:8080/"
        },
        "id": "3rnD-z6tRsnm",
        "outputId": "e29a2042-9232-4fdf-e364-4df8b0756948"
      },
      "execution_count": 11,
      "outputs": [
        {
          "output_type": "stream",
          "name": "stdout",
          "text": [
            "Insert an element: \n",
            "1\n",
            "Another value: 3\n",
            "Another value: 5\n",
            "Another value: 8\n",
            "Another value: 10\n",
            "Another value: 1\n",
            "Another value: \n",
            "Insert the minimum index: -4\n",
            "Insert the maximum index: 5\n",
            "All data:  [1.0, 1.0, 3.0, 5.0, 8.0, 10.0]\n",
            "Data restrcted:  [1.0, 1.0, 3.0, 5.0, 8.0, 10.0]\n"
          ]
        }
      ]
    },
    {
      "cell_type": "markdown",
      "source": [
        "# Exercise 13\n",
        "Create a simple application to store students’ career information and compute their average grade.\n",
        "* There is a given a list of exam (already written it in the code). Each exam has a unique code, a name, a number of associated credits, and a teaching professor\n",
        "* Create a dictionary to represent all the information concerning an exam.\n",
        "* Then, given a list of students (already written in the code), the program iteratively ask for the grade the students obtained in each exam.\n",
        "* Once all the information is given, the program prints the career of each students, their average of the grades, and their weighted average (considering the credits).\n",
        "\n",
        "\n",
        "Suggestion: for each student, use a new dictionary to represent their career."
      ],
      "metadata": {
        "id": "Xn37KdzLfd-u"
      }
    },
    {
      "cell_type": "markdown",
      "source": [
        "### Solution"
      ],
      "metadata": {
        "id": "69_CB9omgIip"
      }
    },
    {
      "cell_type": "code",
      "source": [
        "# initial data, given by the problem\n",
        "examNames = {\n",
        "    \"B5665_1\":('REAL TIME SYSTEMS AND PROGRAMMING FOR AUTOMATION M', 12, \"Torroni\"),\n",
        "    \"78809\":('MATHEMATICAL METHODS FOR AUTOMATION ENGINEERING M', 6, \"Mentrelli\"),\n",
        "    \"92990_1\":('SYSTEM THEORY AND ADVANCED CONTROL M ', 9, \"Marconi\"),\n",
        "    }\n",
        "students = ['Andrea', 'Paolo']\n",
        "\n",
        "# data input\n",
        "marks = {}\n",
        "for s in students:\n",
        "    career = {}\n",
        "    print('Dear ', s, ', please insert your marks')\n",
        "    for e in examNames.keys():\n",
        "        mark = input(examNames[e][0]+': ')\n",
        "        # TODO: add validation on the input: is a number between 18-30\n",
        "        career[e] = int(mark)\n",
        "    marks[s] = career\n",
        "\n",
        "# proper print of a career\n",
        "print()\n",
        "for s in students:\n",
        "    print('Dear ', s, ', here are your marks:')\n",
        "    career = marks[s]\n",
        "    for e in examNames.keys():\n",
        "        print(examNames[e][0], ':', career[e])\n",
        "    print()\n",
        "\n",
        "# compute the weighted average\n",
        "for s in students:\n",
        "    print()\n",
        "    average = 0\n",
        "    weight = 0\n",
        "    career = marks[s]\n",
        "    for e in examNames.keys():\n",
        "        average += career[e]*examNames[e][1]\n",
        "        weight += examNames[e][1]\n",
        "    print('Dear ', s, ', your average is: ' + round(average/weight, 2))"
      ],
      "metadata": {
        "colab": {
          "base_uri": "https://localhost:8080/"
        },
        "id": "oMyUW2VXgKSY",
        "outputId": "2451e778-52cd-4e9f-f0ef-801a01c4bd1e"
      },
      "execution_count": 12,
      "outputs": [
        {
          "output_type": "stream",
          "name": "stdout",
          "text": [
            "Dear  Andrea , please insert your marks\n",
            "REAL TIME SYSTEMS AND PROGRAMMING FOR AUTOMATION M: 28\n",
            "MATHEMATICAL METHODS FOR AUTOMATION ENGINEERING M: 20\n",
            "SYSTEM THEORY AND ADVANCED CONTROL M : 18\n",
            "Dear  Paolo , please insert your marks\n",
            "REAL TIME SYSTEMS AND PROGRAMMING FOR AUTOMATION M: 28\n",
            "MATHEMATICAL METHODS FOR AUTOMATION ENGINEERING M: 29\n",
            "SYSTEM THEORY AND ADVANCED CONTROL M : 30\n",
            "\n",
            "Dear  Andrea , here are your marks:\n",
            "REAL TIME SYSTEMS AND PROGRAMMING FOR AUTOMATION M : 28\n",
            "MATHEMATICAL METHODS FOR AUTOMATION ENGINEERING M : 20\n",
            "SYSTEM THEORY AND ADVANCED CONTROL M  : 18\n",
            "\n",
            "Dear  Paolo , here are your marks:\n",
            "REAL TIME SYSTEMS AND PROGRAMMING FOR AUTOMATION M : 28\n",
            "MATHEMATICAL METHODS FOR AUTOMATION ENGINEERING M : 29\n",
            "SYSTEM THEORY AND ADVANCED CONTROL M  : 30\n",
            "\n",
            "\n",
            "Dear  Andrea , your average is: 22.88888888888889\n",
            "\n",
            "Dear  Paolo , your average is: 28.88888888888889\n"
          ]
        }
      ]
    }
  ]
}