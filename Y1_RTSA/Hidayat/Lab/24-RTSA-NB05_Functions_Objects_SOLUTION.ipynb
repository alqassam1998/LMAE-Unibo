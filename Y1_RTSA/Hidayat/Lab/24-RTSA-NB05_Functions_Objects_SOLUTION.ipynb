{
  "nbformat": 4,
  "nbformat_minor": 0,
  "metadata": {
    "colab": {
      "provenance": [],
      "toc_visible": true,
      "collapsed_sections": [
        "ifYqd5XWsXVZ"
      ]
    },
    "kernelspec": {
      "name": "python3",
      "display_name": "Python 3"
    },
    "language_info": {
      "name": "python"
    }
  },
  "cells": [
    {
      "cell_type": "markdown",
      "source": [
        "# Functions\n"
      ],
      "metadata": {
        "id": "pcBLv2oFrVAV"
      }
    },
    {
      "cell_type": "markdown",
      "source": [
        "## Basic definition"
      ],
      "metadata": {
        "id": "sTybNlwDsYjM"
      }
    },
    {
      "cell_type": "code",
      "source": [
        "def pow_of_two(x):\n",
        "    '''\n",
        "    Given a number, returns its power of two\n",
        "    : param x (int): the base\n",
        "    : return (int): the power of two of x\n",
        "    '''\n",
        "    y = x*x\n",
        "    return y"
      ],
      "metadata": {
        "id": "usyRu8D2rUPT"
      },
      "execution_count": null,
      "outputs": []
    },
    {
      "cell_type": "markdown",
      "source": [
        "Now see what happens putting the mouse over the name of the function in the following block"
      ],
      "metadata": {
        "id": "7aY4ary9r5yK"
      }
    },
    {
      "cell_type": "code",
      "source": [
        "pow_of_two(3)"
      ],
      "metadata": {
        "colab": {
          "base_uri": "https://localhost:8080/"
        },
        "id": "snBf2f_Mr296",
        "outputId": "a46fc378-dad0-4c01-ea9f-879a9a4c1ede"
      },
      "execution_count": null,
      "outputs": [
        {
          "output_type": "execute_result",
          "data": {
            "text/plain": [
              "9"
            ]
          },
          "metadata": {},
          "execution_count": 365
        }
      ]
    },
    {
      "cell_type": "markdown",
      "source": [
        "Functions can return multiple values as a tuple"
      ],
      "metadata": {
        "id": "TvlNivVnzzJZ"
      }
    },
    {
      "cell_type": "code",
      "source": [
        "def pow_of_two_and_three(some_value):\n",
        "    '''\n",
        "    Given a number, returns its power of two\n",
        "    : param x (int): the base\n",
        "    : return (int, int): x^2 and x^3\n",
        "    '''\n",
        "    y = some_value*some_value\n",
        "    z = y*some_value\n",
        "    return y, z"
      ],
      "metadata": {
        "id": "ohNcogVBzydY"
      },
      "execution_count": null,
      "outputs": []
    },
    {
      "cell_type": "code",
      "source": [
        "pow_of_two_and_three(3)"
      ],
      "metadata": {
        "colab": {
          "base_uri": "https://localhost:8080/"
        },
        "id": "MgT4n5J0z_lB",
        "outputId": "087e42fd-6c98-4fa3-82f4-d5afa229fddf"
      },
      "execution_count": null,
      "outputs": [
        {
          "output_type": "execute_result",
          "data": {
            "text/plain": [
              "(9, 27)"
            ]
          },
          "metadata": {},
          "execution_count": 366
        }
      ]
    },
    {
      "cell_type": "markdown",
      "source": [
        "In these cases, it is possible to assign each value to a different variable if the number of returned values is equal to the number of variables"
      ],
      "metadata": {
        "id": "w8whiFxG0EU4"
      }
    },
    {
      "cell_type": "code",
      "source": [
        "a, b = pow_of_two_and_three(2)\n",
        "print(\"a:\",a)\n",
        "print(\"b:\",b)"
      ],
      "metadata": {
        "colab": {
          "base_uri": "https://localhost:8080/"
        },
        "id": "VPDE6X9m0NeJ",
        "outputId": "2a8e9400-e041-4fea-a7fa-cb94e5d20577"
      },
      "execution_count": null,
      "outputs": [
        {
          "output_type": "stream",
          "name": "stdout",
          "text": [
            "a: 4\n",
            "b: 8\n"
          ]
        }
      ]
    },
    {
      "cell_type": "markdown",
      "source": [
        "## Visibility of variables"
      ],
      "metadata": {
        "id": "ifYqd5XWsXVZ"
      }
    },
    {
      "cell_type": "markdown",
      "source": [
        "Exercises done in the classroom"
      ],
      "metadata": {
        "id": "EEzWnsoa0Xp8"
      }
    },
    {
      "cell_type": "code",
      "source": [
        "a1 = 5\n",
        "def test1():\n",
        "    a1 = 7\n",
        "    print(a1)\n",
        "\n",
        "print(a1)\n",
        "test1()\n"
      ],
      "metadata": {
        "colab": {
          "base_uri": "https://localhost:8080/"
        },
        "id": "xstZBHWSsfCq",
        "outputId": "e2752b5c-6f15-45a1-9259-c043c946e023"
      },
      "execution_count": null,
      "outputs": [
        {
          "output_type": "stream",
          "name": "stdout",
          "text": [
            "5\n",
            "7\n"
          ]
        }
      ]
    },
    {
      "cell_type": "code",
      "source": [
        "b2 = 5\n",
        "def test2():\n",
        "    print(b2)\n",
        "    a2 = 7\n",
        "    print(a2)\n",
        "\n",
        "test2()\n",
        "print(a2)\n"
      ],
      "metadata": {
        "colab": {
          "base_uri": "https://localhost:8080/",
          "height": 211
        },
        "id": "ANlIm_wusn_D",
        "outputId": "f89731b8-3871-49f1-a475-3520e5f24b4b"
      },
      "execution_count": null,
      "outputs": [
        {
          "output_type": "stream",
          "name": "stdout",
          "text": [
            "5\n",
            "7\n"
          ]
        },
        {
          "output_type": "error",
          "ename": "NameError",
          "evalue": "name 'a2' is not defined",
          "traceback": [
            "\u001b[0;31m---------------------------------------------------------------------------\u001b[0m",
            "\u001b[0;31mNameError\u001b[0m                                 Traceback (most recent call last)",
            "\u001b[0;32m<ipython-input-311-4f3915bd8fcc>\u001b[0m in \u001b[0;36m<cell line: 8>\u001b[0;34m()\u001b[0m\n\u001b[1;32m      6\u001b[0m \u001b[0;34m\u001b[0m\u001b[0m\n\u001b[1;32m      7\u001b[0m \u001b[0mtest2\u001b[0m\u001b[0;34m(\u001b[0m\u001b[0;34m)\u001b[0m\u001b[0;34m\u001b[0m\u001b[0;34m\u001b[0m\u001b[0m\n\u001b[0;32m----> 8\u001b[0;31m \u001b[0mprint\u001b[0m\u001b[0;34m(\u001b[0m\u001b[0ma2\u001b[0m\u001b[0;34m)\u001b[0m\u001b[0;34m\u001b[0m\u001b[0;34m\u001b[0m\u001b[0m\n\u001b[0m",
            "\u001b[0;31mNameError\u001b[0m: name 'a2' is not defined"
          ]
        }
      ]
    },
    {
      "cell_type": "code",
      "source": [
        "b3 = 5\n",
        "def test3():\n",
        "    print(b3)\n",
        "    a3 = 7\n",
        "    b3 = 3\n",
        "    print(a3)\n",
        "\n",
        "test3()\n"
      ],
      "metadata": {
        "colab": {
          "base_uri": "https://localhost:8080/",
          "height": 297
        },
        "id": "O0rXDlBbsn4B",
        "outputId": "4207fa3e-887a-4b44-cdda-dbbf788bd2ff"
      },
      "execution_count": null,
      "outputs": [
        {
          "output_type": "error",
          "ename": "UnboundLocalError",
          "evalue": "local variable 'b3' referenced before assignment",
          "traceback": [
            "\u001b[0;31m---------------------------------------------------------------------------\u001b[0m",
            "\u001b[0;31mUnboundLocalError\u001b[0m                         Traceback (most recent call last)",
            "\u001b[0;32m<ipython-input-312-19c07edeb6aa>\u001b[0m in \u001b[0;36m<cell line: 8>\u001b[0;34m()\u001b[0m\n\u001b[1;32m      6\u001b[0m     \u001b[0mprint\u001b[0m\u001b[0;34m(\u001b[0m\u001b[0ma3\u001b[0m\u001b[0;34m)\u001b[0m\u001b[0;34m\u001b[0m\u001b[0;34m\u001b[0m\u001b[0m\n\u001b[1;32m      7\u001b[0m \u001b[0;34m\u001b[0m\u001b[0m\n\u001b[0;32m----> 8\u001b[0;31m \u001b[0mtest3\u001b[0m\u001b[0;34m(\u001b[0m\u001b[0;34m)\u001b[0m\u001b[0;34m\u001b[0m\u001b[0;34m\u001b[0m\u001b[0m\n\u001b[0m",
            "\u001b[0;32m<ipython-input-312-19c07edeb6aa>\u001b[0m in \u001b[0;36mtest3\u001b[0;34m()\u001b[0m\n\u001b[1;32m      1\u001b[0m \u001b[0mb3\u001b[0m \u001b[0;34m=\u001b[0m \u001b[0;36m5\u001b[0m\u001b[0;34m\u001b[0m\u001b[0;34m\u001b[0m\u001b[0m\n\u001b[1;32m      2\u001b[0m \u001b[0;32mdef\u001b[0m \u001b[0mtest3\u001b[0m\u001b[0;34m(\u001b[0m\u001b[0;34m)\u001b[0m\u001b[0;34m:\u001b[0m\u001b[0;34m\u001b[0m\u001b[0;34m\u001b[0m\u001b[0m\n\u001b[0;32m----> 3\u001b[0;31m     \u001b[0mprint\u001b[0m\u001b[0;34m(\u001b[0m\u001b[0mb3\u001b[0m\u001b[0;34m)\u001b[0m\u001b[0;34m\u001b[0m\u001b[0;34m\u001b[0m\u001b[0m\n\u001b[0m\u001b[1;32m      4\u001b[0m     \u001b[0ma3\u001b[0m \u001b[0;34m=\u001b[0m \u001b[0;36m7\u001b[0m\u001b[0;34m\u001b[0m\u001b[0;34m\u001b[0m\u001b[0m\n\u001b[1;32m      5\u001b[0m     \u001b[0mb3\u001b[0m \u001b[0;34m=\u001b[0m \u001b[0;36m3\u001b[0m\u001b[0;34m\u001b[0m\u001b[0;34m\u001b[0m\u001b[0m\n",
            "\u001b[0;31mUnboundLocalError\u001b[0m: local variable 'b3' referenced before assignment"
          ]
        }
      ]
    },
    {
      "cell_type": "code",
      "source": [
        "b4 = 5\n",
        "def test4(b4):\n",
        "    print(b4)\n",
        "    b4 = 3\n",
        "    print(b4)\n",
        "\n",
        "test4(11)\n"
      ],
      "metadata": {
        "colab": {
          "base_uri": "https://localhost:8080/"
        },
        "id": "VzHxRABlsnuC",
        "outputId": "fb149e2b-e9cb-4ba0-baaa-8cf117ed49cf"
      },
      "execution_count": null,
      "outputs": [
        {
          "output_type": "stream",
          "name": "stdout",
          "text": [
            "11\n",
            "3\n"
          ]
        }
      ]
    },
    {
      "cell_type": "markdown",
      "source": [
        "## Exercises"
      ],
      "metadata": {
        "id": "v7AQhhkS0gK_"
      }
    },
    {
      "cell_type": "markdown",
      "source": [
        "### Exercise 1\n",
        "Write a function `max_of_3` that takes three numbers and returns the highest among them."
      ],
      "metadata": {
        "id": "yUFzakWOxvwD"
      }
    },
    {
      "cell_type": "code",
      "source": [
        "def max_of_3(first,second,third):\n",
        "    if(type(first)!=int or\n",
        "       type(second)!=int or\n",
        "       type(third)!=int ):\n",
        "       print(\"ERROR\")\n",
        "       return None\n",
        "    temp_max = first\n",
        "    if first > second:\n",
        "        temp_max=first\n",
        "    else:\n",
        "        temp_max = second\n",
        "\n",
        "    if temp_max < third:\n",
        "        temp_max = third\n",
        "\n",
        "    return temp_max"
      ],
      "metadata": {
        "id": "FjT1lNoDyAnb"
      },
      "execution_count": null,
      "outputs": []
    },
    {
      "cell_type": "code",
      "source": [
        "print(max_of_3(\"pizza\",\"burger\",4))\n",
        "# DO NOT TOUCH THIS, JUST RUN IT TO TEST YOUR FUNCTION\n",
        "print(max_of_3(10,3,2)==10)\n",
        "print(max_of_3(4,3,10)==10)\n",
        "print(max_of_3(4,10,4)==10)"
      ],
      "metadata": {
        "id": "ITqtg77e0kfn",
        "colab": {
          "base_uri": "https://localhost:8080/"
        },
        "outputId": "8b3c1e2d-c685-4a92-a7ae-fcd9fca2a0ff"
      },
      "execution_count": null,
      "outputs": [
        {
          "output_type": "stream",
          "name": "stdout",
          "text": [
            "ERROR\n",
            "None\n",
            "True\n",
            "True\n",
            "True\n"
          ]
        }
      ]
    },
    {
      "cell_type": "markdown",
      "source": [
        "### Exercise 2\n",
        "Write two functions. `min_of_three` takes three numbers and returns the lowest among them. `min_and_max_of_three` takes three numbers, then invokes the previous two functions to return the highest and the lowest (in this order)."
      ],
      "metadata": {
        "id": "CGZR5hisyCzN"
      }
    },
    {
      "cell_type": "code",
      "source": [
        "def min_of_3(first,second,third):\n",
        "    if(type(first)!=int or\n",
        "       type(second)!=int or\n",
        "       type(third)!=int ):\n",
        "       print(\"ERROR\")\n",
        "       return None\n",
        "    temp_min = first\n",
        "    if first < second:\n",
        "        temp_min=first\n",
        "    else:\n",
        "        temp_min = second\n",
        "\n",
        "    if temp_min > third:\n",
        "        temp_min = third\n",
        "\n",
        "    return temp_min"
      ],
      "metadata": {
        "id": "LXHl4WKbyCW6"
      },
      "execution_count": null,
      "outputs": []
    },
    {
      "cell_type": "code",
      "source": [
        "# DO NOT TOUCH THIS, JUST RUN IT TO TEST YOUR FUNCTION\n",
        "print(min_of_3(10,3,2)==2)\n",
        "print(min_of_3(4,3,10)==3)\n",
        "print(min_of_3(4,10,4)==4)"
      ],
      "metadata": {
        "id": "aNIC1xe600Fa",
        "colab": {
          "base_uri": "https://localhost:8080/"
        },
        "outputId": "cc58a442-81dc-49ea-e1e7-1292b1d84484"
      },
      "execution_count": null,
      "outputs": [
        {
          "output_type": "stream",
          "name": "stdout",
          "text": [
            "True\n",
            "True\n",
            "True\n"
          ]
        }
      ]
    },
    {
      "cell_type": "code",
      "source": [
        "def min_and_max_of_three(first,second,third):\n",
        "    max = max_of_3(first,second,third)\n",
        "    min = min_of_3(first,second,third)\n",
        "    return max,min"
      ],
      "metadata": {
        "id": "0D-35GR5COA5"
      },
      "execution_count": null,
      "outputs": []
    },
    {
      "cell_type": "code",
      "source": [
        "# DO NOT TOUCH THIS, JUST RUN IT TO TEST YOUR FUNCTION\n",
        "print(min_and_max_of_three(10,3,2)==(10,2))\n",
        "print(min_and_max_of_three(4,3,10)==(10,3))\n",
        "print(min_and_max_of_three(4,10,4)==(10,4))"
      ],
      "metadata": {
        "id": "QpsETI1I08Xf",
        "colab": {
          "base_uri": "https://localhost:8080/"
        },
        "outputId": "63fb5cf9-ab86-4792-feb6-1e0729267a7d"
      },
      "execution_count": null,
      "outputs": [
        {
          "output_type": "stream",
          "name": "stdout",
          "text": [
            "True\n",
            "True\n",
            "True\n"
          ]
        }
      ]
    },
    {
      "cell_type": "markdown",
      "source": [
        "## Optional Parameters and Args"
      ],
      "metadata": {
        "id": "UksXBawduobX"
      }
    },
    {
      "cell_type": "markdown",
      "source": [
        "### *Args"
      ],
      "metadata": {
        "id": "kRzpe3WI1gt-"
      }
    },
    {
      "cell_type": "markdown",
      "source": [
        "We can use `*args` to allow the function to receive more arguments\n"
      ],
      "metadata": {
        "id": "wmTRbtrnvnIN"
      }
    },
    {
      "cell_type": "code",
      "source": [
        "def sum_of_some_numbers(num1, num2, *args):\n",
        "    b = num1 + num2\n",
        "    for num in args:\n",
        "        b = b+num\n",
        "    return b"
      ],
      "metadata": {
        "id": "TCrUNUlRun2X"
      },
      "execution_count": null,
      "outputs": []
    },
    {
      "cell_type": "code",
      "source": [
        "print(sum_of_some_numbers(3,4))"
      ],
      "metadata": {
        "colab": {
          "base_uri": "https://localhost:8080/"
        },
        "id": "TZ-w8ZHevaR1",
        "outputId": "fefb492c-7b0e-400b-c978-773bfb7845ef"
      },
      "execution_count": null,
      "outputs": [
        {
          "output_type": "stream",
          "name": "stdout",
          "text": [
            "7\n"
          ]
        }
      ]
    },
    {
      "cell_type": "code",
      "source": [
        "print(sum_of_some_numbers(3,4,6,10))"
      ],
      "metadata": {
        "colab": {
          "base_uri": "https://localhost:8080/"
        },
        "id": "uIfNVkVUviSl",
        "outputId": "0221ecda-1e46-4b15-e536-ea7640c4aea5"
      },
      "execution_count": null,
      "outputs": [
        {
          "output_type": "stream",
          "name": "stdout",
          "text": [
            "23\n"
          ]
        }
      ]
    },
    {
      "cell_type": "markdown",
      "source": [
        "### Default and optional parameters"
      ],
      "metadata": {
        "id": "z6wTa6q81jRH"
      }
    },
    {
      "cell_type": "markdown",
      "source": [
        "We can specify a default value for certain parameters, making them  optional.\n",
        "Mandatory parameters must be specified BEFORE optional ones."
      ],
      "metadata": {
        "id": "LN7FS6nqvw2b"
      }
    },
    {
      "cell_type": "code",
      "source": [
        "def power_and_sum(base, exp=2, sum=0):\n",
        "    '''\n",
        "    Function to compute the power of a number. The default is power of two.\n",
        "    Then adds a number, the default is zero.\n",
        "    '''\n",
        "    tot = 1\n",
        "    for i in range(exp):\n",
        "        tot = tot * base\n",
        "    return tot+sum"
      ],
      "metadata": {
        "id": "a2KwDGXFv7d-"
      },
      "execution_count": null,
      "outputs": []
    },
    {
      "cell_type": "code",
      "source": [
        "# the default behaviour is the power of 2\n",
        "power_and_sum(3) # 3^2"
      ],
      "metadata": {
        "colab": {
          "base_uri": "https://localhost:8080/"
        },
        "id": "a_TN5zGgwQ8U",
        "outputId": "af507dc6-e585-4f0a-97d9-435b845b2866"
      },
      "execution_count": null,
      "outputs": [
        {
          "output_type": "execute_result",
          "data": {
            "text/plain": [
              "9"
            ]
          },
          "metadata": {},
          "execution_count": 382
        }
      ]
    },
    {
      "cell_type": "code",
      "source": [
        "# we can specify the optional arguments in order\n",
        "power_and_sum(3,4) # 3^4"
      ],
      "metadata": {
        "colab": {
          "base_uri": "https://localhost:8080/"
        },
        "id": "oOXrHH5FwX8E",
        "outputId": "058ffede-858d-4ea1-9ef8-339f02fd3065"
      },
      "execution_count": null,
      "outputs": [
        {
          "output_type": "execute_result",
          "data": {
            "text/plain": [
              "81"
            ]
          },
          "metadata": {},
          "execution_count": 383
        }
      ]
    },
    {
      "cell_type": "code",
      "source": [
        "# we can specify the optional arguments by name\n",
        "power_and_sum(3, sum=5) # 3^2 + 5"
      ],
      "metadata": {
        "colab": {
          "base_uri": "https://localhost:8080/"
        },
        "id": "2RZakr2wwdqM",
        "outputId": "8200ed54-304f-4cc0-af72-302d34093389"
      },
      "execution_count": null,
      "outputs": [
        {
          "output_type": "execute_result",
          "data": {
            "text/plain": [
              "14"
            ]
          },
          "metadata": {},
          "execution_count": 384
        }
      ]
    },
    {
      "cell_type": "code",
      "source": [
        "# if we specify the names of the arguments, the order does not matter\n",
        "power_and_sum(exp=4, sum=5, base=3) # 3^4 + 5"
      ],
      "metadata": {
        "colab": {
          "base_uri": "https://localhost:8080/"
        },
        "id": "CykbEayrw_5-",
        "outputId": "82969d9a-4a68-44e2-a903-3b76d9467709"
      },
      "execution_count": null,
      "outputs": [
        {
          "output_type": "execute_result",
          "data": {
            "text/plain": [
              "86"
            ]
          },
          "metadata": {},
          "execution_count": 356
        }
      ]
    },
    {
      "cell_type": "markdown",
      "source": [
        "## Recursive calls"
      ],
      "metadata": {
        "id": "dS-4xABJtLHg"
      }
    },
    {
      "cell_type": "code",
      "source": [
        "def summatory(num):\n",
        "    \"\"\"\n",
        "    Given a number, returns its summatory from 0\n",
        "    : param num (int): the final number\n",
        "    : return (int): the summatory from 0 to num\n",
        "    \"\"\"\n",
        "    tot = 0 # we start from 0\n",
        "    for i in range(num+1):\n",
        "        print(\"Current tot: \", tot, \" we add: \", i)\n",
        "        tot += i # we add the numbers one step at time\n",
        "    return tot # we return the final result"
      ],
      "metadata": {
        "id": "_DU6eCq4tePJ"
      },
      "execution_count": null,
      "outputs": []
    },
    {
      "cell_type": "code",
      "source": [
        "summatory(4)"
      ],
      "metadata": {
        "colab": {
          "base_uri": "https://localhost:8080/"
        },
        "id": "wu0-Kr-BuCe5",
        "outputId": "696b8fc1-c663-4f19-dc07-3eba878a2fef"
      },
      "execution_count": null,
      "outputs": [
        {
          "output_type": "stream",
          "name": "stdout",
          "text": [
            "Current tot:  0  we add:  0\n",
            "Current tot:  0  we add:  1\n",
            "Current tot:  1  we add:  2\n",
            "Current tot:  3  we add:  3\n",
            "Current tot:  6  we add:  4\n"
          ]
        },
        {
          "output_type": "execute_result",
          "data": {
            "text/plain": [
              "10"
            ]
          },
          "metadata": {},
          "execution_count": 385
        }
      ]
    },
    {
      "cell_type": "code",
      "source": [
        "def recurive_summatory(num, sum=0):\n",
        "    print(\"Current call: num=\",num, \" sum=\", sum)\n",
        "    if num == 0:\n",
        "        return sum\n",
        "    else:\n",
        "        x = sum + num\n",
        "        y = recurive_summatory(num-1, x)\n",
        "        return y"
      ],
      "metadata": {
        "id": "NwPO35ZwtM_p"
      },
      "execution_count": null,
      "outputs": []
    },
    {
      "cell_type": "code",
      "source": [
        "recurive_summatory(4)"
      ],
      "metadata": {
        "colab": {
          "base_uri": "https://localhost:8080/"
        },
        "id": "Ay9w4vVWuTol",
        "outputId": "d47a7103-e7a5-4cff-d389-c0a9103ce538"
      },
      "execution_count": null,
      "outputs": [
        {
          "output_type": "stream",
          "name": "stdout",
          "text": [
            "Current call: num= 4  sum= 0\n",
            "Current call: num= 3  sum= 4\n",
            "Current call: num= 2  sum= 7\n",
            "Current call: num= 1  sum= 9\n",
            "Current call: num= 0  sum= 10\n"
          ]
        },
        {
          "output_type": "execute_result",
          "data": {
            "text/plain": [
              "10"
            ]
          },
          "metadata": {},
          "execution_count": 332
        }
      ]
    },
    {
      "cell_type": "markdown",
      "source": [
        "## Exercises"
      ],
      "metadata": {
        "id": "Sle8XcYq1Rmn"
      }
    },
    {
      "cell_type": "markdown",
      "source": [
        "### Exercise 3\n",
        "Write a function `concat_strings_list` that takes a list of strings and concatenates them together"
      ],
      "metadata": {
        "id": "OgRLjdoW1Ucj"
      }
    },
    {
      "cell_type": "code",
      "source": [
        "def concat_strings_list(list_of_strings):\n",
        "    final_string = \"\"\n",
        "    for string in list_of_strings:\n",
        "        final_string = final_string+string\n",
        "    return final_string"
      ],
      "metadata": {
        "id": "5IaGG-_S1XQ-"
      },
      "execution_count": null,
      "outputs": []
    },
    {
      "cell_type": "code",
      "source": [
        "print(concat_strings_list([\"hello\",\"how\",\"are\",\"you\",\"doing\"]))"
      ],
      "metadata": {
        "colab": {
          "base_uri": "https://localhost:8080/"
        },
        "id": "r3jBcOz7G7ae",
        "outputId": "1686bcd5-cef5-4078-8db5-6c076523d5c5"
      },
      "execution_count": null,
      "outputs": [
        {
          "output_type": "stream",
          "name": "stdout",
          "text": [
            "hellohowareyoudoing\n"
          ]
        }
      ]
    },
    {
      "cell_type": "code",
      "source": [
        "print(concat_strings_list([\"pizza\",\"margherita\"])==\"pizzamargherita\")\n",
        "print(concat_strings_list([\"hello\",\"how\",\"are\",\"you\",\"doing\"])==\"hellohowareyoudoing\")"
      ],
      "metadata": {
        "colab": {
          "base_uri": "https://localhost:8080/"
        },
        "id": "d5sXUc-DGlCv",
        "outputId": "9e955637-a97c-431f-d04e-7c8dae522b5f"
      },
      "execution_count": null,
      "outputs": [
        {
          "output_type": "stream",
          "name": "stdout",
          "text": [
            "True\n",
            "True\n"
          ]
        }
      ]
    },
    {
      "cell_type": "markdown",
      "source": [
        "### Exercise 4\n",
        "Modify the function `concat_strings_list` to accept two optional parameters: `sep=\"\"` is a character that separates the strings; `reverse=False` is a boolean, when it is true the concatenation must start from the last string and reach the first one. For example\n",
        "\n",
        "\n",
        "```\n",
        "concat_strings([\"Hello\",\"how\",\"are\",\"you\"], sep=\"-\", reverse=True)\n",
        "```\n",
        "produces\n",
        "```\n",
        "\"you-are-how-Hello\"\n",
        "```"
      ],
      "metadata": {
        "id": "21T3-Oua1r_3"
      }
    },
    {
      "cell_type": "code",
      "source": [
        "def concat_strings_list(list_of_strings, sep=\"-\", reverse=\"True\"):\n",
        "    final_string = \"\"\n",
        "    counter = 0\n",
        "    if reverse:\n",
        "        for string in list_of_strings:\n",
        "            final_string = string+final_string\n",
        "            counter+=1\n",
        "            if (counter!=len(list_of_strings)):\n",
        "                final_string =sep+final_string\n",
        "    else:\n",
        "        for string in list_of_strings:\n",
        "            final_string = final_string+string\n",
        "            counter+=1\n",
        "            if (counter!=len(list_of_strings)):\n",
        "                final_string = final_string + sep\n",
        "    return final_string"
      ],
      "metadata": {
        "id": "5TY9YDct2WOs"
      },
      "execution_count": null,
      "outputs": []
    },
    {
      "cell_type": "code",
      "source": [
        "concat_strings_list([\"Hello\",\"how\",\"are\",\"you\"], sep=\"-\", reverse=True)"
      ],
      "metadata": {
        "colab": {
          "base_uri": "https://localhost:8080/",
          "height": 35
        },
        "id": "oqGiNGHnNBPh",
        "outputId": "ab4a76c4-c107-41ef-e4f6-92a0d3cc7569"
      },
      "execution_count": null,
      "outputs": [
        {
          "output_type": "execute_result",
          "data": {
            "text/plain": [
              "'you-are-how-Hello'"
            ],
            "application/vnd.google.colaboratory.intrinsic+json": {
              "type": "string"
            }
          },
          "metadata": {},
          "execution_count": 397
        }
      ]
    },
    {
      "cell_type": "markdown",
      "source": [
        "### Exercise 5\n",
        "Write a function `concat_strings` that takes a any number of strings (NOT AS A LIST) and concatenates them together (no optional parameters)"
      ],
      "metadata": {
        "id": "JfTKflgL2jIV"
      }
    },
    {
      "cell_type": "code",
      "source": [
        "def concat_strings_list(*args):\n",
        "    final_string = \"\"\n",
        "    for string in args:\n",
        "        final_string = final_string+string\n",
        "    return final_string"
      ],
      "metadata": {
        "id": "iEA_u-Ex2ioM"
      },
      "execution_count": null,
      "outputs": []
    },
    {
      "cell_type": "code",
      "source": [
        "print(concat_strings_list(\"hello\",\"how\",\"are\",\"you\",\"doing\"))"
      ],
      "metadata": {
        "colab": {
          "base_uri": "https://localhost:8080/"
        },
        "id": "o_d6SDxVQXvF",
        "outputId": "54658be9-34af-4fe7-dd62-e8a95a73d19a"
      },
      "execution_count": null,
      "outputs": [
        {
          "output_type": "stream",
          "name": "stdout",
          "text": [
            "hellohowareyoudoing\n"
          ]
        }
      ]
    },
    {
      "cell_type": "markdown",
      "source": [
        "# Objects\n",
        "\n",
        "The following code is what we have seen in class"
      ],
      "metadata": {
        "id": "WxKgi1XOaCR_"
      }
    },
    {
      "cell_type": "markdown",
      "source": [
        "## Basics"
      ],
      "metadata": {
        "id": "4taeKBgtbhnn"
      }
    },
    {
      "cell_type": "markdown",
      "source": [
        "### Person Class"
      ],
      "metadata": {
        "id": "Op_cgyovaSRQ"
      }
    },
    {
      "cell_type": "code",
      "source": [
        "class Person(object):\n",
        "\n",
        "    # constructor\n",
        "    def __init__(self, name, familyName):\n",
        "        self.name = name\n",
        "        self.familyName = familyName\n",
        "\n",
        "    # instance method\n",
        "    def introduce(self):\n",
        "        print(\"Hello, I'm\", self.name, self.familyName)\n",
        "\n"
      ],
      "metadata": {
        "id": "ZyX8ipArcwZU"
      },
      "execution_count": null,
      "outputs": []
    },
    {
      "cell_type": "markdown",
      "source": [
        "### Access to attributes\n",
        "We can access to attributes and methods with the dot notation"
      ],
      "metadata": {
        "id": "k7lk6iS-eklL"
      }
    },
    {
      "cell_type": "code",
      "source": [
        "p1 = Person('Andrea', 'Galassi')\n",
        "\n",
        "p1.introduce()"
      ],
      "metadata": {
        "id": "-LM18k11agu_",
        "colab": {
          "base_uri": "https://localhost:8080/"
        },
        "outputId": "fa9e77f1-a11a-482d-bb0b-5ff48086936c"
      },
      "execution_count": null,
      "outputs": [
        {
          "output_type": "stream",
          "name": "stdout",
          "text": [
            "Hello, I'm Andrea Galassi\n"
          ]
        }
      ]
    },
    {
      "cell_type": "code",
      "source": [
        "print(p1.name)"
      ],
      "metadata": {
        "id": "vuvZzrNWevPC",
        "colab": {
          "base_uri": "https://localhost:8080/"
        },
        "outputId": "c566429a-84ef-4efe-bf2b-4ac223b0558e"
      },
      "execution_count": null,
      "outputs": [
        {
          "output_type": "stream",
          "name": "stdout",
          "text": [
            "Andrea\n"
          ]
        }
      ]
    },
    {
      "cell_type": "markdown",
      "source": [
        "### Professor subclass"
      ],
      "metadata": {
        "id": "X2O9xA5faRN_"
      }
    },
    {
      "cell_type": "code",
      "source": [
        "class Professor(Person):\n",
        "    # constructor\n",
        "    def __init__(self, name, familyName, course):\n",
        "            super().__init__(name, familyName) # invoke parent\n",
        "            self.course = course\n",
        "\n",
        "    # new instance method\n",
        "    def printCourse(self):\n",
        "        print(self.name, self.familyName, self.course)\n",
        "\n",
        "    def introduce(self): # overriding\n",
        "        super().introduce() # invoke parent method\n",
        "        print(\"and I teach\", self.course)\n"
      ],
      "metadata": {
        "id": "cH9gFRp-aYAf"
      },
      "execution_count": null,
      "outputs": []
    },
    {
      "cell_type": "code",
      "source": [
        "p1 = Person('Andrea', 'Galassi')\n",
        "p2 = Professor('Paolo', 'Torroni','RTSA')\n",
        "\n",
        "p1.introduce()\n",
        "\n",
        "p2.introduce()"
      ],
      "metadata": {
        "id": "QkQaocwzMe8W",
        "colab": {
          "base_uri": "https://localhost:8080/"
        },
        "outputId": "2b6f7000-dd7c-4db3-904b-97225fb380ea"
      },
      "execution_count": null,
      "outputs": [
        {
          "output_type": "stream",
          "name": "stdout",
          "text": [
            "Hello, I'm Andrea Galassi\n",
            "something else\n"
          ]
        }
      ]
    },
    {
      "cell_type": "code",
      "source": [
        "p2.printCourse()"
      ],
      "metadata": {
        "id": "-WVeSfYyb5J9",
        "colab": {
          "base_uri": "https://localhost:8080/"
        },
        "outputId": "2636298d-5069-4617-ef85-759995a69171"
      },
      "execution_count": null,
      "outputs": [
        {
          "output_type": "stream",
          "name": "stdout",
          "text": [
            "Paolo Torroni RTSA\n"
          ]
        }
      ]
    },
    {
      "cell_type": "markdown",
      "source": [
        "### IsInstance and IsSubclass"
      ],
      "metadata": {
        "id": "y1ZdU1JEa38A"
      }
    },
    {
      "cell_type": "code",
      "source": [
        "p1 = Person('Andrea', 'Galassi')\n",
        "p2 = Professor('Paolo', 'Torroni','RTSA')\n",
        "print(\"Is p1 instance of Professor?\", isinstance(p1, Professor)) # prints ???\n",
        "print(\"Is p1 instance of Person?\", isinstance(p1, Person)) # prints ???\n",
        "print(\"Is p2 instance of Professor?\", isinstance(p2, Professor)) # prints ???\n",
        "print(\"Is p2 instance of Person?\", isinstance(p2, Person)) # prints ???"
      ],
      "metadata": {
        "id": "FliXTq1sa3bP",
        "colab": {
          "base_uri": "https://localhost:8080/"
        },
        "outputId": "eb7b350c-cf88-49f4-d7a4-fd9055be26e3"
      },
      "execution_count": null,
      "outputs": [
        {
          "output_type": "stream",
          "name": "stdout",
          "text": [
            "Is p1 instance of Professor? False\n",
            "Is p1 instance of Person? True\n",
            "Is p2 instance of Professor? True\n",
            "Is p2 instance of Person? True\n"
          ]
        }
      ]
    },
    {
      "cell_type": "code",
      "source": [
        "print(\"Is Professor subclass of Person?\", issubclass(Professor, Person))\n",
        "print(\"Is Person subclass of Professor?\", issubclass(Person, Professor))"
      ],
      "metadata": {
        "id": "vSt20JP7bHJH",
        "colab": {
          "base_uri": "https://localhost:8080/"
        },
        "outputId": "e0bd4834-05f6-4278-bc3c-7d34cf0750f3"
      },
      "execution_count": null,
      "outputs": [
        {
          "output_type": "stream",
          "name": "stdout",
          "text": [
            "Is Professor subclass of Person? True\n",
            "Is Person subclass of Professor? False\n"
          ]
        }
      ]
    },
    {
      "cell_type": "markdown",
      "source": [
        "## Equality and Identity\n",
        "We can override the operator == by defining the class `__eq__`"
      ],
      "metadata": {
        "id": "cvC7qY8_h4IR"
      }
    },
    {
      "cell_type": "code",
      "source": [
        "class Person(object):\n",
        "\n",
        "    # constructor\n",
        "    def __init__(self, name, familyName):\n",
        "        self.name = name\n",
        "        self.familyName = familyName\n",
        "\n",
        "    # instance method\n",
        "    def introduce(self):\n",
        "        print(\"Hello, I'm\", self.name, self.familyName)\n",
        "\n",
        "    # overriding of ==\n",
        "    def __eq__(self, otherPerson):\n",
        "        x = (self.name==otherPerson.name)\n",
        "        y = (self.familyName==otherPerson.familyName)\n",
        "        return (type(otherPerson)==Person and x and y)\n",
        "\n",
        "\n",
        "class Professor(Person):\n",
        "    def __init__(self, name, familyName, course):\n",
        "            super().__init__(name, familyName) # invoke parent\n",
        "            self.course = course\n",
        "\n",
        "    def printCourse(self):\n",
        "        print(self.name, self.familyName, self.course)\n",
        "\n",
        "    def introduce(self): # overriding\n",
        "        super().introduce() # invoke parent method\n",
        "        print(\"and I teach\", self.course)\n",
        "\n",
        "    # overriding of ==\n",
        "    def __eq__(self, otherProfessor):\n",
        "        return (type(otherProfessor)==Professor and\n",
        "                self.name==otherProfessor.name and\n",
        "                self.familyName==otherProfessor.familyName\n",
        "                and self.course==otherProfessor.course\n",
        "                )"
      ],
      "metadata": {
        "id": "33DTS64aiA5N"
      },
      "execution_count": null,
      "outputs": []
    },
    {
      "cell_type": "markdown",
      "source": [
        "We can test equality and identity with `==` and with `is`"
      ],
      "metadata": {
        "id": "CYIySUdBqRyL"
      }
    },
    {
      "cell_type": "code",
      "source": [
        "p1a = Person('Andrea', 'Galassi')\n",
        "p1b = Person('Andrea', 'Galassi')\n",
        "\n",
        "print(\"The identity of p1a is\", id(p1a))\n",
        "print(\"The identity of p1b is\", id(p1b))\n",
        "\n",
        "print(\"Are they equal?\", p1a==p1b)\n",
        "print(\"Are they the same?\", p1a is p1b)\n"
      ],
      "metadata": {
        "id": "Uva-_S16ic4s",
        "colab": {
          "base_uri": "https://localhost:8080/"
        },
        "outputId": "f66b2173-adfe-4a96-fdad-15624759be60"
      },
      "execution_count": null,
      "outputs": [
        {
          "output_type": "stream",
          "name": "stdout",
          "text": [
            "The identity of p1a is 133318567019136\n",
            "The identity of p1b is 133318567027776\n",
            "Are they equal? True\n",
            "Are they the same? False\n"
          ]
        }
      ]
    },
    {
      "cell_type": "markdown",
      "source": [
        "What happens if we compare a Person and a Professor?"
      ],
      "metadata": {
        "id": "i48ZHdPQqQUk"
      }
    },
    {
      "cell_type": "code",
      "source": [
        "p1 = Person('Andrea', 'Galassi')\n",
        "p3 = Professor('Andrea', 'Galassi','RTSA')\n",
        "\n",
        "\n",
        "print(p1==p3)\n",
        "# print(p3==p1)"
      ],
      "metadata": {
        "id": "mxzKPqj2p1-b",
        "colab": {
          "base_uri": "https://localhost:8080/"
        },
        "outputId": "9e0cb7ac-ea5d-4e4e-bda8-1a7fc7cf259d"
      },
      "execution_count": null,
      "outputs": [
        {
          "output_type": "stream",
          "name": "stdout",
          "text": [
            "False\n"
          ]
        }
      ]
    },
    {
      "cell_type": "markdown",
      "source": [
        "## Class Variables and Methods"
      ],
      "metadata": {
        "id": "NrY8h4xrbbhN"
      }
    },
    {
      "cell_type": "markdown",
      "source": [
        "Let's change Person adding a class variable (species) and a class method (change_species)"
      ],
      "metadata": {
        "id": "RRagvHk1ceZd"
      }
    },
    {
      "cell_type": "code",
      "source": [
        "class Person(object):\n",
        "\n",
        "    # constructor\n",
        "    def __init__(self, name, familyName):\n",
        "        self.name = name\n",
        "        self.familyName = familyName\n",
        "\n",
        "    # instance method\n",
        "    def introduce(self):\n",
        "        print(\"Hello, I'm\", self.name, self.familyName)\n",
        "\n",
        "    @classmethod\n",
        "    def change_species(cls, newspecies): # class method\n",
        "        cls.species = newspecies\n",
        "    # change_species = classmethod(change_species)\n",
        "\n",
        "    species = \"homo sapiens\" # class variable"
      ],
      "metadata": {
        "id": "7eFS8-ZpbbGO"
      },
      "execution_count": null,
      "outputs": []
    },
    {
      "cell_type": "markdown",
      "source": [
        "Professor remains the same"
      ],
      "metadata": {
        "id": "eKFthnOPdbHh"
      }
    },
    {
      "cell_type": "code",
      "source": [
        "class Professor(Person):\n",
        "    # constructor\n",
        "    def __init__(self, name, familyName, course):\n",
        "            super().__init__(name, familyName) # invoke parent\n",
        "            self.course = course\n",
        "\n",
        "    # new instance method\n",
        "    def printCourse(self):\n",
        "        print(self.name, self.familyName, self.course)\n",
        "\n",
        "    def introduce(self): # overriding\n",
        "        super().introduce() # invoke parent method\n",
        "        print(\"and I teach\", self.course)"
      ],
      "metadata": {
        "id": "XKARPLp5davY"
      },
      "execution_count": null,
      "outputs": []
    },
    {
      "cell_type": "code",
      "source": [
        "p1 = Person('Andrea', 'Galassi')\n",
        "p2 = Professor('Paolo', 'Torroni','RTSA')\n",
        "\n",
        "p1.introduce()\n",
        "\n",
        "p2.introduce()"
      ],
      "metadata": {
        "id": "YvTP7kjRdLr7",
        "colab": {
          "base_uri": "https://localhost:8080/"
        },
        "outputId": "3445df10-80d4-43a3-a3ec-462d198a861f"
      },
      "execution_count": null,
      "outputs": [
        {
          "output_type": "stream",
          "name": "stdout",
          "text": [
            "Hello, I'm Andrea Galassi\n",
            "Hello, I'm Paolo Torroni\n",
            "and I teach RTSA\n"
          ]
        }
      ]
    },
    {
      "cell_type": "markdown",
      "source": [
        "### Class variables"
      ],
      "metadata": {
        "id": "2QLKq4led1bj"
      }
    },
    {
      "cell_type": "markdown",
      "source": [
        "It is possible to access to the class variable throught the name of the class"
      ],
      "metadata": {
        "id": "Ad6e0mhqcaGA"
      }
    },
    {
      "cell_type": "code",
      "source": [
        "print(Person.species)"
      ],
      "metadata": {
        "id": "xDS0hQH9MigG",
        "colab": {
          "base_uri": "https://localhost:8080/"
        },
        "outputId": "6d957f4a-b86e-42b6-9021-34c98cb402a0"
      },
      "execution_count": null,
      "outputs": [
        {
          "output_type": "stream",
          "name": "stdout",
          "text": [
            "homo sapiens\n"
          ]
        }
      ]
    },
    {
      "cell_type": "markdown",
      "source": [
        "It is possible to access to the class variable  throught the name of the instances of the class"
      ],
      "metadata": {
        "id": "w2rZFBZpclIM"
      }
    },
    {
      "cell_type": "code",
      "source": [
        "print(p1.species)"
      ],
      "metadata": {
        "id": "t92MONxFMlGO",
        "colab": {
          "base_uri": "https://localhost:8080/"
        },
        "outputId": "a607b218-c99e-42dc-f100-b9e05da5147f"
      },
      "execution_count": null,
      "outputs": [
        {
          "output_type": "stream",
          "name": "stdout",
          "text": [
            "homo sapiens\n"
          ]
        }
      ]
    },
    {
      "cell_type": "markdown",
      "source": [
        "it is possible to access to the class variable throught the name of the instances of any subclass"
      ],
      "metadata": {
        "id": "HI-sf86acpPO"
      }
    },
    {
      "cell_type": "code",
      "source": [
        "print(Professor.species)"
      ],
      "metadata": {
        "colab": {
          "base_uri": "https://localhost:8080/"
        },
        "id": "R-CPVD2JVHWx",
        "outputId": "4b4eac1d-bf0b-4169-9953-322b9875b857"
      },
      "execution_count": null,
      "outputs": [
        {
          "output_type": "stream",
          "name": "stdout",
          "text": [
            "homo sapiens\n"
          ]
        }
      ]
    },
    {
      "cell_type": "code",
      "source": [
        "print(p2.species)"
      ],
      "metadata": {
        "id": "nccdabzicMsf",
        "colab": {
          "base_uri": "https://localhost:8080/"
        },
        "outputId": "4b9dc51a-8ad5-453c-8c45-bdb3968b1e53"
      },
      "execution_count": null,
      "outputs": [
        {
          "output_type": "stream",
          "name": "stdout",
          "text": [
            "homo sapiens\n"
          ]
        }
      ]
    },
    {
      "cell_type": "markdown",
      "source": [
        "If we modify the variable from the class, the change is propagated to each instance"
      ],
      "metadata": {
        "id": "Us3XiiKNcqpM"
      }
    },
    {
      "cell_type": "code",
      "source": [
        "Person.species = \"human\"\n",
        "print(Person.species)\n",
        "print(p1.species)\n",
        "print(p2.species)"
      ],
      "metadata": {
        "id": "nz_W8nohcqTl",
        "colab": {
          "base_uri": "https://localhost:8080/"
        },
        "outputId": "b23be4cd-55c8-4eb1-86c7-8736bfa021a9"
      },
      "execution_count": null,
      "outputs": [
        {
          "output_type": "stream",
          "name": "stdout",
          "text": [
            "human\n",
            "human\n",
            "human\n"
          ]
        }
      ]
    },
    {
      "cell_type": "markdown",
      "source": [
        "If we modify it from an instance, we are creating an instance attribute that override the class variable, with two consequences. First of all, the change is only local."
      ],
      "metadata": {
        "id": "65h4Pm44dnrj"
      }
    },
    {
      "cell_type": "code",
      "source": [
        "p1.species = \"human being\"\n",
        "print(Person.species)\n",
        "print(p1.species)\n",
        "print(p2.species)"
      ],
      "metadata": {
        "id": "Gx4-Q-dxdq88",
        "colab": {
          "base_uri": "https://localhost:8080/"
        },
        "outputId": "58e65889-8f7b-4e0c-9aeb-6f15a6b7ea8e"
      },
      "execution_count": null,
      "outputs": [
        {
          "output_type": "stream",
          "name": "stdout",
          "text": [
            "human\n",
            "human being\n",
            "human\n"
          ]
        }
      ]
    },
    {
      "cell_type": "markdown",
      "source": [
        "Second, any future change to the class variable will be \"hidden\" for that instance"
      ],
      "metadata": {
        "id": "SQF_yB2ueEtr"
      }
    },
    {
      "cell_type": "code",
      "source": [
        "Person.species = \"homo sapiens\"\n",
        "print(Person.species)\n",
        "print(p1.species)\n",
        "print(p2.species)"
      ],
      "metadata": {
        "id": "6mAzXgHfeDS7",
        "colab": {
          "base_uri": "https://localhost:8080/"
        },
        "outputId": "79ede310-1835-4a71-9eb5-d6b1ca07ede4"
      },
      "execution_count": null,
      "outputs": [
        {
          "output_type": "stream",
          "name": "stdout",
          "text": [
            "homo sapiens\n",
            "human being\n",
            "homo sapiens\n"
          ]
        }
      ]
    },
    {
      "cell_type": "markdown",
      "source": [
        "### Class methods"
      ],
      "metadata": {
        "id": "yY6TLa8pd4Ib"
      }
    },
    {
      "cell_type": "markdown",
      "source": [
        "Let's reset our instances"
      ],
      "metadata": {
        "id": "pNlg9DoNfQEy"
      }
    },
    {
      "cell_type": "code",
      "source": [
        "p1 = Person('Andrea', 'Galassi')\n",
        "p2 = Professor('Paolo', 'Torroni','RTSA')"
      ],
      "metadata": {
        "id": "QjGyttgIfPmZ"
      },
      "execution_count": null,
      "outputs": []
    },
    {
      "cell_type": "markdown",
      "source": [
        "We can call the class method from the class name"
      ],
      "metadata": {
        "id": "aztXsPLGdyNK"
      }
    },
    {
      "cell_type": "code",
      "source": [
        "Person.change_species(\"homo sapiens sapiens\")\n",
        "\n",
        "print(Person.species)\n",
        "print(p1.species)\n",
        "print(p2.species)"
      ],
      "metadata": {
        "id": "bntaDolSdxua",
        "colab": {
          "base_uri": "https://localhost:8080/"
        },
        "outputId": "413a182b-8acc-4d87-fa1f-dfff5a2e2d61"
      },
      "execution_count": null,
      "outputs": [
        {
          "output_type": "stream",
          "name": "stdout",
          "text": [
            "homo sapiens sapiens\n",
            "homo sapiens sapiens\n",
            "homo sapiens sapiens\n"
          ]
        }
      ]
    },
    {
      "cell_type": "markdown",
      "source": [
        "But we also call it from any instance"
      ],
      "metadata": {
        "id": "h43Qt5vofADq"
      }
    },
    {
      "cell_type": "code",
      "source": [
        "p1.change_species(\"alien\")\n",
        "print(Person.species)\n",
        "print(p1.species)\n",
        "print(p2.species)"
      ],
      "metadata": {
        "id": "LMrlWTFTfDXT",
        "colab": {
          "base_uri": "https://localhost:8080/"
        },
        "outputId": "9a0f8bf3-4a9e-4de4-fcba-1c21163ccbd1"
      },
      "execution_count": null,
      "outputs": [
        {
          "output_type": "stream",
          "name": "stdout",
          "text": [
            "alien\n",
            "alien\n",
            "alien\n"
          ]
        }
      ]
    },
    {
      "cell_type": "markdown",
      "source": [
        "## Using *args in the constructor\n",
        "We can user *args to decouple the constructor of the child from the constructor of the parent.\n",
        "This way, we do not need to worry about superclass parameters in the subclasses."
      ],
      "metadata": {
        "id": "Lb1g76Yaf9Cv"
      }
    },
    {
      "cell_type": "markdown",
      "source": [
        "The superclass remain the same, we only change the subclass"
      ],
      "metadata": {
        "id": "hJxIBLBFgCFm"
      }
    },
    {
      "cell_type": "code",
      "source": [
        "# remains the same\n",
        "class Person(object):\n",
        "\n",
        "    # constructor\n",
        "    def __init__(self, name, familyName):\n",
        "        self.name = name\n",
        "        self.familyName = familyName\n",
        "\n",
        "    # instance method\n",
        "    def introduce(self):\n",
        "        print(\"Hello, I'm\", self.name, self.familyName)\n",
        "\n",
        "    @classmethod\n",
        "    def change_species(cls, newspecies):\n",
        "        cls.species = newspecies\n",
        "\n",
        "    species = \"homo sapiens\"\n",
        "\n",
        "\n",
        "# the constructor changes\n",
        "class Professor(Person):\n",
        "    # constructor\n",
        "    def __init__(self, course, *args): # agnostic about the parents' parameters\n",
        "        super().__init__(*args) # invokes parent over arguments\n",
        "        self.course = course # assigns the specific attribute\n",
        "\n",
        "    # new instance method\n",
        "    def printCourse(self):\n",
        "        print(self.name, self.familyName, self.course)\n",
        "\n",
        "    def introduce(self): # overriding\n",
        "        super().introduce() # invoke parent method\n",
        "        print(\"and I teach\", self.course)"
      ],
      "metadata": {
        "id": "8olBmhGEf8Uf"
      },
      "execution_count": null,
      "outputs": []
    },
    {
      "cell_type": "code",
      "source": [
        "p1 = Person('Andrea', 'Galassi')\n",
        "p2 = Professor('RTSA', 'Paolo', 'Torroni') # the first argument must be the more specific\n",
        "\n",
        "p1.introduce()\n",
        "\n",
        "p2.introduce()"
      ],
      "metadata": {
        "id": "WPCJXQgHgyRI",
        "colab": {
          "base_uri": "https://localhost:8080/"
        },
        "outputId": "e64fef0e-f24c-4d25-f88e-9b780d96d94d"
      },
      "execution_count": null,
      "outputs": [
        {
          "output_type": "stream",
          "name": "stdout",
          "text": [
            "Hello, I'm Andrea Galassi\n",
            "Hello, I'm Paolo Torroni\n",
            "and I teach RTSA\n"
          ]
        }
      ]
    },
    {
      "cell_type": "markdown",
      "source": [
        "## Multiple Inheritance"
      ],
      "metadata": {
        "id": "uvUBvlKshdaV"
      }
    },
    {
      "cell_type": "code",
      "source": [
        "class Person(object):\n",
        "    def __init__(self, name, familyName):\n",
        "        self.name = name\n",
        "        self.familyName = familyName\n",
        "\n",
        "class Student(Person):\n",
        "    def __init__(self, course, *args):\n",
        "        super().__init__(*args)\n",
        "        self.course = course\n",
        "\n",
        "class Worker(Person):\n",
        "    def __init__(self, job, *args):\n",
        "        super().__init__(*args)\n",
        "        self.job = job\n",
        "\n",
        "class WorkingStudent(Worker, Student):\n",
        "    def __init__(self, *args):\n",
        "        super().__init__(*args)\n"
      ],
      "metadata": {
        "id": "4qlpOZXPXMB3"
      },
      "execution_count": null,
      "outputs": []
    },
    {
      "cell_type": "code",
      "source": [
        "print(WorkingStudent.mro())\n"
      ],
      "metadata": {
        "id": "dKgyzJPQXyeC",
        "colab": {
          "base_uri": "https://localhost:8080/"
        },
        "outputId": "8ed744a9-41ed-4ddf-848a-26b237c9071a"
      },
      "execution_count": null,
      "outputs": [
        {
          "output_type": "stream",
          "name": "stdout",
          "text": [
            "[<class '__main__.WorkingStudent'>, <class '__main__.Worker'>, <class '__main__.Student'>, <class '__main__.Person'>, <class 'object'>]\n"
          ]
        }
      ]
    },
    {
      "cell_type": "code",
      "source": [
        "ws = WorkingStudent('researcher', 'RTSA', 'Andrea', 'Galassi')\n"
      ],
      "metadata": {
        "id": "wdQtiRmBXSKK"
      },
      "execution_count": null,
      "outputs": []
    },
    {
      "cell_type": "code",
      "source": [
        "print('Name:', ws.name)\n",
        "print('Family:', ws.familyName)\n",
        "print('Job:', ws.job)\n",
        "print('Course:', ws.course)\n"
      ],
      "metadata": {
        "id": "ZoV3gp_pXVKa",
        "colab": {
          "base_uri": "https://localhost:8080/"
        },
        "outputId": "6ab81735-726f-4b5c-faaf-3990f812a26f"
      },
      "execution_count": null,
      "outputs": [
        {
          "output_type": "stream",
          "name": "stdout",
          "text": [
            "Name: Andrea\n",
            "Family: Galassi\n",
            "Job: researcher\n",
            "Course: RTSA\n"
          ]
        }
      ]
    },
    {
      "cell_type": "markdown",
      "source": [
        "## Exercise 6\n",
        "Create a new Class, that is subclass of `Person`.\n",
        "The class is `Artist`.\n",
        "* It has one attribute that is `art_field`, which is a string.\n",
        "* Override `introduce()` so that the `art_field` is printed.\n",
        "* Override `==` to compare `name`, `family_name` and the `art_field` (after checking that the type is `Artist`!)"
      ],
      "metadata": {
        "id": "u9rpDPSXWkMN"
      }
    },
    {
      "cell_type": "code",
      "source": [
        "class Person(object):\n",
        "\n",
        "    # constructor\n",
        "    def __init__(self, name, familyName):\n",
        "        self.name = name\n",
        "        self.familyName = familyName\n",
        "\n",
        "    # instance method\n",
        "    def introduce(self):\n",
        "        print(\"Hello, I'm\", self.name, self.familyName)\n",
        "\n",
        "    def __eq__(self, other):\n",
        "        return(self.name==other.name and self.familyName==other.Familyname)"
      ],
      "metadata": {
        "id": "uLrKt6ASXK__"
      },
      "execution_count": null,
      "outputs": []
    },
    {
      "cell_type": "code",
      "source": [
        "class Artist(Person):\n",
        "\n",
        "    # constructor\n",
        "    def __init__(self, art_field, *args):\n",
        "        super().__init__(*args)\n",
        "        self.art_field=art_field\n",
        "\n",
        "    # instance method\n",
        "    def introduce(self):\n",
        "        super().introduce()\n",
        "        print(\"I work in \", self.art_field)\n",
        "\n",
        "    def __eq__(self, other):\n",
        "        return(type(self)==type(other) and self.name==other.name and self.familyName==other.Familyname and\n",
        "               self.art_field==other.art_field)"
      ],
      "metadata": {
        "id": "9j79NO2xafDy"
      },
      "execution_count": null,
      "outputs": []
    },
    {
      "cell_type": "code",
      "source": [
        "a = Artist(\"cinema\", \"Marcello\", \"Mastroianni\")\n",
        "print(a)\n",
        "print(a.name)\n",
        "\n",
        "a.introduce()\n",
        "\n",
        "print(a == b)"
      ],
      "metadata": {
        "colab": {
          "base_uri": "https://localhost:8080/"
        },
        "id": "aJdLYvOla41B",
        "outputId": "d7a2f395-7f45-49dd-d819-67c9d5db81b8"
      },
      "execution_count": null,
      "outputs": [
        {
          "output_type": "stream",
          "name": "stdout",
          "text": [
            "<__main__.Artist object at 0x7940a5b12e90>\n",
            "Marcello\n",
            "Hello, I'm Marcello Mastroianni\n",
            "I work in  cinema\n"
          ]
        }
      ]
    },
    {
      "cell_type": "code",
      "source": [],
      "metadata": {
        "id": "gK7wbW9mbFmC"
      },
      "execution_count": null,
      "outputs": []
    }
  ]
}